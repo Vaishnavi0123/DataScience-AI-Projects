{
  "nbformat": 4,
  "nbformat_minor": 0,
  "metadata": {
    "colab": {
      "name": "Avatar.ipynb",
      "provenance": [],
      "collapsed_sections": []
    },
    "kernelspec": {
      "name": "python3",
      "display_name": "Python 3"
    },
    "language_info": {
      "name": "python"
    }
  },
  "cells": [
    {
      "cell_type": "code",
      "metadata": {
        "id": "S9mVEYFkm6JZ"
      },
      "source": [
        "import pandas as pd\n",
        "import numpy as np\n",
        "import io\n",
        "from io import StringIO\n",
        "from nltk.tokenize import word_tokenize\n",
        "from nltk.corpus import stopwords\n",
        "from textblob import TextBlob # for sentiment analysis\n",
        "from collections import Counter \n",
        "import seaborn as sns\n",
        "import matplotlib.pyplot as plt\n",
        "import string"
      ],
      "execution_count": 247,
      "outputs": []
    },
    {
      "cell_type": "code",
      "metadata": {
        "colab": {
          "resources": {
            "http://localhost:8080/nbextensions/google.colab/files.js": {
              "data": "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",
              "ok": true,
              "headers": [
                [
                  "content-type",
                  "application/javascript"
                ]
              ],
              "status": 200,
              "status_text": ""
            }
          },
          "base_uri": "https://localhost:8080/",
          "height": 73
        },
        "id": "jFsidahanFAS",
        "outputId": "e482bae0-8dfa-4254-e97e-3545e910ebb9"
      },
      "source": [
        "from google.colab import files\n",
        "uploaded=files.upload()"
      ],
      "execution_count": 250,
      "outputs": [
        {
          "output_type": "display_data",
          "data": {
            "text/html": [
              "\n",
              "     <input type=\"file\" id=\"files-2ab18a7c-71a7-4cfe-b997-2065869d5a73\" name=\"files[]\" multiple disabled\n",
              "        style=\"border:none\" />\n",
              "     <output id=\"result-2ab18a7c-71a7-4cfe-b997-2065869d5a73\">\n",
              "      Upload widget is only available when the cell has been executed in the\n",
              "      current browser session. Please rerun this cell to enable.\n",
              "      </output>\n",
              "      <script src=\"/nbextensions/google.colab/files.js\"></script> "
            ],
            "text/plain": [
              "<IPython.core.display.HTML object>"
            ]
          },
          "metadata": {
            "tags": []
          }
        },
        {
          "output_type": "stream",
          "text": [
            "Saving avatar.xls to avatar (1).xls\n"
          ],
          "name": "stdout"
        }
      ]
    },
    {
      "cell_type": "code",
      "metadata": {
        "colab": {
          "base_uri": "https://localhost:8080/",
          "height": 509
        },
        "id": "8qXLvfwsnHRu",
        "outputId": "7be8f72c-dabf-45bb-e43a-51866bfe2d44"
      },
      "source": [
        "data=pd.read_excel(io.BytesIO(uploaded['avatar.xls'])) \n",
        "data.head()"
      ],
      "execution_count": 261,
      "outputs": [
        {
          "output_type": "execute_result",
          "data": {
            "text/html": [
              "<div>\n",
              "<style scoped>\n",
              "    .dataframe tbody tr th:only-of-type {\n",
              "        vertical-align: middle;\n",
              "    }\n",
              "\n",
              "    .dataframe tbody tr th {\n",
              "        vertical-align: top;\n",
              "    }\n",
              "\n",
              "    .dataframe thead th {\n",
              "        text-align: right;\n",
              "    }\n",
              "</style>\n",
              "<table border=\"1\" class=\"dataframe\">\n",
              "  <thead>\n",
              "    <tr style=\"text-align: right;\">\n",
              "      <th></th>\n",
              "      <th>Unnamed: 0</th>\n",
              "      <th>id</th>\n",
              "      <th>book</th>\n",
              "      <th>book_num</th>\n",
              "      <th>chapter</th>\n",
              "      <th>chapter_num</th>\n",
              "      <th>character</th>\n",
              "      <th>full_text</th>\n",
              "      <th>character_words</th>\n",
              "      <th>writer</th>\n",
              "      <th>director</th>\n",
              "      <th>imdb_rating</th>\n",
              "    </tr>\n",
              "  </thead>\n",
              "  <tbody>\n",
              "    <tr>\n",
              "      <th>0</th>\n",
              "      <td>1</td>\n",
              "      <td>1</td>\n",
              "      <td>Water</td>\n",
              "      <td>1</td>\n",
              "      <td>The Boy in the Iceberg</td>\n",
              "      <td>1</td>\n",
              "      <td>Katara</td>\n",
              "      <td>Water. Earth. Fire. Air. My grandmother used t...</td>\n",
              "      <td>Water. Earth. Fire. Air. My grandmother used t...</td>\n",
              "      <td>&lt;U+200E&gt;Michael Dante DiMartino, Bryan Konietz...</td>\n",
              "      <td>Dave Filoni</td>\n",
              "      <td>8.1</td>\n",
              "    </tr>\n",
              "    <tr>\n",
              "      <th>1</th>\n",
              "      <td>2</td>\n",
              "      <td>2</td>\n",
              "      <td>Water</td>\n",
              "      <td>1</td>\n",
              "      <td>The Boy in the Iceberg</td>\n",
              "      <td>1</td>\n",
              "      <td>Scene Description</td>\n",
              "      <td>As the title card fades, the scene opens onto ...</td>\n",
              "      <td>NaN</td>\n",
              "      <td>&lt;U+200E&gt;Michael Dante DiMartino, Bryan Konietz...</td>\n",
              "      <td>Dave Filoni</td>\n",
              "      <td>8.1</td>\n",
              "    </tr>\n",
              "    <tr>\n",
              "      <th>2</th>\n",
              "      <td>3</td>\n",
              "      <td>3</td>\n",
              "      <td>Water</td>\n",
              "      <td>1</td>\n",
              "      <td>The Boy in the Iceberg</td>\n",
              "      <td>1</td>\n",
              "      <td>Sokka</td>\n",
              "      <td>It's not getting away from me this time. [Clos...</td>\n",
              "      <td>It's not getting away from me this time.  Watc...</td>\n",
              "      <td>&lt;U+200E&gt;Michael Dante DiMartino, Bryan Konietz...</td>\n",
              "      <td>Dave Filoni</td>\n",
              "      <td>8.1</td>\n",
              "    </tr>\n",
              "    <tr>\n",
              "      <th>3</th>\n",
              "      <td>4</td>\n",
              "      <td>4</td>\n",
              "      <td>Water</td>\n",
              "      <td>1</td>\n",
              "      <td>The Boy in the Iceberg</td>\n",
              "      <td>1</td>\n",
              "      <td>Scene Description</td>\n",
              "      <td>The shot pans quickly from the boy to Katara, ...</td>\n",
              "      <td>NaN</td>\n",
              "      <td>&lt;U+200E&gt;Michael Dante DiMartino, Bryan Konietz...</td>\n",
              "      <td>Dave Filoni</td>\n",
              "      <td>8.1</td>\n",
              "    </tr>\n",
              "    <tr>\n",
              "      <th>4</th>\n",
              "      <td>5</td>\n",
              "      <td>5</td>\n",
              "      <td>Water</td>\n",
              "      <td>1</td>\n",
              "      <td>The Boy in the Iceberg</td>\n",
              "      <td>1</td>\n",
              "      <td>Katara</td>\n",
              "      <td>[Happily surprised.] Sokka, look!</td>\n",
              "      <td>Sokka, look!</td>\n",
              "      <td>&lt;U+200E&gt;Michael Dante DiMartino, Bryan Konietz...</td>\n",
              "      <td>Dave Filoni</td>\n",
              "      <td>8.1</td>\n",
              "    </tr>\n",
              "  </tbody>\n",
              "</table>\n",
              "</div>"
            ],
            "text/plain": [
              "   Unnamed: 0  id  ...     director  imdb_rating\n",
              "0           1   1  ...  Dave Filoni          8.1\n",
              "1           2   2  ...  Dave Filoni          8.1\n",
              "2           3   3  ...  Dave Filoni          8.1\n",
              "3           4   4  ...  Dave Filoni          8.1\n",
              "4           5   5  ...  Dave Filoni          8.1\n",
              "\n",
              "[5 rows x 12 columns]"
            ]
          },
          "metadata": {
            "tags": []
          },
          "execution_count": 261
        }
      ]
    },
    {
      "cell_type": "code",
      "metadata": {
        "id": "wQdvwCiDpFJR"
      },
      "source": [
        "data.drop(data.columns[[0,1,3,5,7,9,10,11]], axis = 1, inplace = True)"
      ],
      "execution_count": 262,
      "outputs": []
    },
    {
      "cell_type": "code",
      "metadata": {
        "id": "Is5IDhj098WA"
      },
      "source": [
        "data = data.rename(columns={\"character_words\":\"dialogue\"})"
      ],
      "execution_count": 263,
      "outputs": []
    },
    {
      "cell_type": "code",
      "metadata": {
        "colab": {
          "base_uri": "https://localhost:8080/",
          "height": 203
        },
        "id": "GIR7s2AipTcu",
        "outputId": "bf700fbd-b4d3-4fd9-b7dd-a25ebd799690"
      },
      "source": [
        "data.head()"
      ],
      "execution_count": 264,
      "outputs": [
        {
          "output_type": "execute_result",
          "data": {
            "text/html": [
              "<div>\n",
              "<style scoped>\n",
              "    .dataframe tbody tr th:only-of-type {\n",
              "        vertical-align: middle;\n",
              "    }\n",
              "\n",
              "    .dataframe tbody tr th {\n",
              "        vertical-align: top;\n",
              "    }\n",
              "\n",
              "    .dataframe thead th {\n",
              "        text-align: right;\n",
              "    }\n",
              "</style>\n",
              "<table border=\"1\" class=\"dataframe\">\n",
              "  <thead>\n",
              "    <tr style=\"text-align: right;\">\n",
              "      <th></th>\n",
              "      <th>book</th>\n",
              "      <th>chapter</th>\n",
              "      <th>character</th>\n",
              "      <th>dialogue</th>\n",
              "    </tr>\n",
              "  </thead>\n",
              "  <tbody>\n",
              "    <tr>\n",
              "      <th>0</th>\n",
              "      <td>Water</td>\n",
              "      <td>The Boy in the Iceberg</td>\n",
              "      <td>Katara</td>\n",
              "      <td>Water. Earth. Fire. Air. My grandmother used t...</td>\n",
              "    </tr>\n",
              "    <tr>\n",
              "      <th>1</th>\n",
              "      <td>Water</td>\n",
              "      <td>The Boy in the Iceberg</td>\n",
              "      <td>Scene Description</td>\n",
              "      <td>NaN</td>\n",
              "    </tr>\n",
              "    <tr>\n",
              "      <th>2</th>\n",
              "      <td>Water</td>\n",
              "      <td>The Boy in the Iceberg</td>\n",
              "      <td>Sokka</td>\n",
              "      <td>It's not getting away from me this time.  Watc...</td>\n",
              "    </tr>\n",
              "    <tr>\n",
              "      <th>3</th>\n",
              "      <td>Water</td>\n",
              "      <td>The Boy in the Iceberg</td>\n",
              "      <td>Scene Description</td>\n",
              "      <td>NaN</td>\n",
              "    </tr>\n",
              "    <tr>\n",
              "      <th>4</th>\n",
              "      <td>Water</td>\n",
              "      <td>The Boy in the Iceberg</td>\n",
              "      <td>Katara</td>\n",
              "      <td>Sokka, look!</td>\n",
              "    </tr>\n",
              "  </tbody>\n",
              "</table>\n",
              "</div>"
            ],
            "text/plain": [
              "    book  ...                                           dialogue\n",
              "0  Water  ...  Water. Earth. Fire. Air. My grandmother used t...\n",
              "1  Water  ...                                                NaN\n",
              "2  Water  ...  It's not getting away from me this time.  Watc...\n",
              "3  Water  ...                                                NaN\n",
              "4  Water  ...                                       Sokka, look!\n",
              "\n",
              "[5 rows x 4 columns]"
            ]
          },
          "metadata": {
            "tags": []
          },
          "execution_count": 264
        }
      ]
    },
    {
      "cell_type": "code",
      "metadata": {
        "id": "SKm5P-gBqBGo",
        "colab": {
          "base_uri": "https://localhost:8080/"
        },
        "outputId": "7f419b5a-d7ce-4121-f9c4-c99716468cff"
      },
      "source": [
        "data.info()"
      ],
      "execution_count": 265,
      "outputs": [
        {
          "output_type": "stream",
          "text": [
            "<class 'pandas.core.frame.DataFrame'>\n",
            "RangeIndex: 13385 entries, 0 to 13384\n",
            "Data columns (total 4 columns):\n",
            " #   Column     Non-Null Count  Dtype \n",
            "---  ------     --------------  ----- \n",
            " 0   book       13385 non-null  object\n",
            " 1   chapter    13385 non-null  object\n",
            " 2   character  13385 non-null  object\n",
            " 3   dialogue   9991 non-null   object\n",
            "dtypes: object(4)\n",
            "memory usage: 418.4+ KB\n"
          ],
          "name": "stdout"
        }
      ]
    },
    {
      "cell_type": "code",
      "metadata": {
        "colab": {
          "base_uri": "https://localhost:8080/"
        },
        "id": "duT_Qp7v9phi",
        "outputId": "4f839974-49f9-44d0-9cd8-e324862d1c0d"
      },
      "source": [
        "data.isnull().sum()"
      ],
      "execution_count": 266,
      "outputs": [
        {
          "output_type": "execute_result",
          "data": {
            "text/plain": [
              "book            0\n",
              "chapter         0\n",
              "character       0\n",
              "dialogue     3394\n",
              "dtype: int64"
            ]
          },
          "metadata": {
            "tags": []
          },
          "execution_count": 266
        }
      ]
    },
    {
      "cell_type": "markdown",
      "metadata": {
        "id": "YQlbm_sd904R"
      },
      "source": [
        "The NaN values in dialogue are mostly scene descriptions so we can drop them"
      ]
    },
    {
      "cell_type": "code",
      "metadata": {
        "colab": {
          "base_uri": "https://localhost:8080/"
        },
        "id": "hMzvs3ixKnot",
        "outputId": "c547eea0-c596-4734-d9fa-6e5515553f92"
      },
      "source": [
        "data.shape"
      ],
      "execution_count": 267,
      "outputs": [
        {
          "output_type": "execute_result",
          "data": {
            "text/plain": [
              "(13385, 4)"
            ]
          },
          "metadata": {
            "tags": []
          },
          "execution_count": 267
        }
      ]
    },
    {
      "cell_type": "code",
      "metadata": {
        "id": "3WZnvy3V-lSV"
      },
      "source": [
        "df = data.dropna(axis=0, how='any', thresh=None, subset=None, inplace=False)"
      ],
      "execution_count": 268,
      "outputs": []
    },
    {
      "cell_type": "code",
      "metadata": {
        "colab": {
          "base_uri": "https://localhost:8080/"
        },
        "id": "_qmi8I_I_F2n",
        "outputId": "82348a7b-323a-4541-b5e8-09c09a9a90a3"
      },
      "source": [
        "df.isnull().sum()"
      ],
      "execution_count": 269,
      "outputs": [
        {
          "output_type": "execute_result",
          "data": {
            "text/plain": [
              "book         0\n",
              "chapter      0\n",
              "character    0\n",
              "dialogue     0\n",
              "dtype: int64"
            ]
          },
          "metadata": {
            "tags": []
          },
          "execution_count": 269
        }
      ]
    },
    {
      "cell_type": "code",
      "metadata": {
        "colab": {
          "base_uri": "https://localhost:8080/"
        },
        "id": "nclZd0iCKhwq",
        "outputId": "3f6ecc9b-bc9c-424d-b887-4266e210e594"
      },
      "source": [
        "df.shape"
      ],
      "execution_count": 270,
      "outputs": [
        {
          "output_type": "execute_result",
          "data": {
            "text/plain": [
              "(9991, 4)"
            ]
          },
          "metadata": {
            "tags": []
          },
          "execution_count": 270
        }
      ]
    },
    {
      "cell_type": "code",
      "metadata": {
        "colab": {
          "base_uri": "https://localhost:8080/",
          "height": 203
        },
        "id": "9v3qhcEQ_Idb",
        "outputId": "1363606c-9b69-4fc2-f3f1-5fb37d085f0b"
      },
      "source": [
        "df.head()"
      ],
      "execution_count": 271,
      "outputs": [
        {
          "output_type": "execute_result",
          "data": {
            "text/html": [
              "<div>\n",
              "<style scoped>\n",
              "    .dataframe tbody tr th:only-of-type {\n",
              "        vertical-align: middle;\n",
              "    }\n",
              "\n",
              "    .dataframe tbody tr th {\n",
              "        vertical-align: top;\n",
              "    }\n",
              "\n",
              "    .dataframe thead th {\n",
              "        text-align: right;\n",
              "    }\n",
              "</style>\n",
              "<table border=\"1\" class=\"dataframe\">\n",
              "  <thead>\n",
              "    <tr style=\"text-align: right;\">\n",
              "      <th></th>\n",
              "      <th>book</th>\n",
              "      <th>chapter</th>\n",
              "      <th>character</th>\n",
              "      <th>dialogue</th>\n",
              "    </tr>\n",
              "  </thead>\n",
              "  <tbody>\n",
              "    <tr>\n",
              "      <th>0</th>\n",
              "      <td>Water</td>\n",
              "      <td>The Boy in the Iceberg</td>\n",
              "      <td>Katara</td>\n",
              "      <td>Water. Earth. Fire. Air. My grandmother used t...</td>\n",
              "    </tr>\n",
              "    <tr>\n",
              "      <th>2</th>\n",
              "      <td>Water</td>\n",
              "      <td>The Boy in the Iceberg</td>\n",
              "      <td>Sokka</td>\n",
              "      <td>It's not getting away from me this time.  Watc...</td>\n",
              "    </tr>\n",
              "    <tr>\n",
              "      <th>4</th>\n",
              "      <td>Water</td>\n",
              "      <td>The Boy in the Iceberg</td>\n",
              "      <td>Katara</td>\n",
              "      <td>Sokka, look!</td>\n",
              "    </tr>\n",
              "    <tr>\n",
              "      <th>5</th>\n",
              "      <td>Water</td>\n",
              "      <td>The Boy in the Iceberg</td>\n",
              "      <td>Sokka</td>\n",
              "      <td>Sshh! Katara, you're going to scare it away.  ...</td>\n",
              "    </tr>\n",
              "    <tr>\n",
              "      <th>7</th>\n",
              "      <td>Water</td>\n",
              "      <td>The Boy in the Iceberg</td>\n",
              "      <td>Katara</td>\n",
              "      <td>But, Sokka! I caught one!</td>\n",
              "    </tr>\n",
              "  </tbody>\n",
              "</table>\n",
              "</div>"
            ],
            "text/plain": [
              "    book  ...                                           dialogue\n",
              "0  Water  ...  Water. Earth. Fire. Air. My grandmother used t...\n",
              "2  Water  ...  It's not getting away from me this time.  Watc...\n",
              "4  Water  ...                                       Sokka, look!\n",
              "5  Water  ...  Sshh! Katara, you're going to scare it away.  ...\n",
              "7  Water  ...                          But, Sokka! I caught one!\n",
              "\n",
              "[5 rows x 4 columns]"
            ]
          },
          "metadata": {
            "tags": []
          },
          "execution_count": 271
        }
      ]
    },
    {
      "cell_type": "code",
      "metadata": {
        "id": "_DAV0u4I_J9h"
      },
      "source": [
        "# Remove Characters that aren't the top 15 characters with respect to the dialogues spoken\n",
        "remove = df.character.value_counts().iloc[15:].index.tolist()\n",
        "for name in remove:\n",
        "    df = df[df['character'] != name]"
      ],
      "execution_count": 272,
      "outputs": []
    },
    {
      "cell_type": "code",
      "metadata": {
        "id": "_cEFdkNkAVHp"
      },
      "source": [
        "sns.set_style('darkgrid')\n",
        "plt.rcParams['font.size'] = 14\n",
        "plt.rcParams['figure.figsize'] = (9, 5)\n",
        "plt.rcParams['figure.facecolor'] = '#00000000'"
      ],
      "execution_count": 273,
      "outputs": []
    },
    {
      "cell_type": "code",
      "metadata": {
        "colab": {
          "base_uri": "https://localhost:8080/",
          "height": 364
        },
        "id": "DvZjeJSn_hbB",
        "outputId": "595c0c40-1539-466c-97ff-f365f987fe52"
      },
      "source": [
        "plt.figure(figsize=(15,6))\n",
        "plt.xticks(rotation=90)\n",
        "plt.title('Characters with most number of dialogues')\n",
        "sns.countplot(x = 'character', data = df, order = df.character.value_counts().iloc[:10].index)\n"
      ],
      "execution_count": 274,
      "outputs": [
        {
          "output_type": "execute_result",
          "data": {
            "text/plain": [
              "<matplotlib.axes._subplots.AxesSubplot at 0x7f1f4b599610>"
            ]
          },
          "metadata": {
            "tags": []
          },
          "execution_count": 274
        },
        {
          "output_type": "display_data",
          "data": {
            "image/png": "[encoded data removed]",
            "text/plain": [
              "<Figure size 1080x432 with 1 Axes>"
            ]
          },
          "metadata": {
            "tags": [],
            "needs_background": "light"
          }
        }
      ]
    },
    {
      "cell_type": "code",
      "metadata": {
        "id": "5JjLiPbu_qsN"
      },
      "source": [
        "df['word_count'] = df['dialogue'].str.split().str.len()"
      ],
      "execution_count": 275,
      "outputs": []
    },
    {
      "cell_type": "code",
      "metadata": {
        "colab": {
          "base_uri": "https://localhost:8080/",
          "height": 365
        },
        "id": "GaQ4dx_JA8-k",
        "outputId": "650a1a0c-e584-46bc-aaf8-fea0502fff3c"
      },
      "source": [
        "plt.figure(figsize=(15,6))\n",
        "plt.xticks(rotation=90)\n",
        "plt.title('Words spoken per line')\n",
        "sns.barplot(x='character',y='word_count',data=df, order = df.character.value_counts().iloc[:10].index)\n"
      ],
      "execution_count": 276,
      "outputs": [
        {
          "output_type": "execute_result",
          "data": {
            "text/plain": [
              "<matplotlib.axes._subplots.AxesSubplot at 0x7f1f4b217250>"
            ]
          },
          "metadata": {
            "tags": []
          },
          "execution_count": 276
        },
        {
          "output_type": "display_data",
          "data": {
            "image/png": "[encoded data removed]",
            "text/plain": [
              "<Figure size 1080x432 with 1 Axes>"
            ]
          },
          "metadata": {
            "tags": [],
            "needs_background": "light"
          }
        }
      ]
    },
    {
      "cell_type": "markdown",
      "metadata": {
        "id": "wV1cO71uCCS4"
      },
      "source": [
        "**The scene where Azula flirts with Chan and Iroh singing leaves from the vine has the morst number of words per line**"
      ]
    },
    {
      "cell_type": "code",
      "metadata": {
        "id": "6BL2a-wzBRUM"
      },
      "source": [
        "total_sum = df.groupby(['character'])['word_count'].sum().reset_index()"
      ],
      "execution_count": 277,
      "outputs": []
    },
    {
      "cell_type": "code",
      "metadata": {
        "id": "o9dvc4klCMkB"
      },
      "source": [
        "total_sum = total_sum.sort_values(by='word_count', ascending=False)"
      ],
      "execution_count": 278,
      "outputs": []
    },
    {
      "cell_type": "code",
      "metadata": {
        "colab": {
          "base_uri": "https://localhost:8080/",
          "height": 366
        },
        "id": "fmJVbOcBCOwB",
        "outputId": "0942bef2-ae8d-437a-f0d5-65bf5588c667"
      },
      "source": [
        "plt.figure(figsize=(15,6))\n",
        "plt.xticks(rotation=90)\n",
        "plt.title('Total Character Word Counts')\n",
        "sns.barplot(x='character',y='word_count',data=total_sum)"
      ],
      "execution_count": 279,
      "outputs": [
        {
          "output_type": "execute_result",
          "data": {
            "text/plain": [
              "<matplotlib.axes._subplots.AxesSubplot at 0x7f1f4b8f2890>"
            ]
          },
          "metadata": {
            "tags": []
          },
          "execution_count": 279
        },
        {
          "output_type": "display_data",
          "data": {
            "image/png": "[encoded data removed]",
            "text/plain": [
              "<Figure size 1080x432 with 1 Axes>"
            ]
          },
          "metadata": {
            "tags": [],
            "needs_background": "light"
          }
        }
      ]
    },
    {
      "cell_type": "code",
      "metadata": {
        "colab": {
          "base_uri": "https://localhost:8080/"
        },
        "id": "IMV4k1CTDghv",
        "outputId": "4bc7b739-92ad-4d79-ee1d-e1b1ee15e287"
      },
      "source": [
        "nltk.download"
      ],
      "execution_count": 280,
      "outputs": [
        {
          "output_type": "execute_result",
          "data": {
            "text/plain": [
              "<bound method Downloader.download of <nltk.downloader.Downloader object at 0x7f1f5624f4d0>>"
            ]
          },
          "metadata": {
            "tags": []
          },
          "execution_count": 280
        }
      ]
    },
    {
      "cell_type": "code",
      "metadata": {
        "colab": {
          "base_uri": "https://localhost:8080/"
        },
        "id": "3uQ6VpQKFA1x",
        "outputId": "9541acbc-f4bf-4c7f-cd87-f77ceef75a2c"
      },
      "source": [
        "pip install nltk"
      ],
      "execution_count": 281,
      "outputs": [
        {
          "output_type": "stream",
          "text": [
            "Requirement already satisfied: nltk in /usr/local/lib/python3.7/dist-packages (3.2.5)\n",
            "Requirement already satisfied: six in /usr/local/lib/python3.7/dist-packages (from nltk) (1.15.0)\n"
          ],
          "name": "stdout"
        }
      ]
    },
    {
      "cell_type": "code",
      "metadata": {
        "colab": {
          "base_uri": "https://localhost:8080/"
        },
        "id": "laWmHV5CFlTa",
        "outputId": "7687b536-3bc8-4052-f172-e94bc0f60352"
      },
      "source": [
        "nltk.download('punkt')"
      ],
      "execution_count": 282,
      "outputs": [
        {
          "output_type": "stream",
          "text": [
            "[nltk_data] Downloading package punkt to /root/nltk_data...\n",
            "[nltk_data]   Package punkt is already up-to-date!\n"
          ],
          "name": "stdout"
        },
        {
          "output_type": "execute_result",
          "data": {
            "text/plain": [
              "True"
            ]
          },
          "metadata": {
            "tags": []
          },
          "execution_count": 282
        }
      ]
    },
    {
      "cell_type": "code",
      "metadata": {
        "id": "sHRp7pK6CUuQ"
      },
      "source": [
        "# Clean and Normalize Text\n",
        "# - tokenize\n",
        "# - lowercase\n",
        "# - remove punctuation\n",
        "# - remove alphanumeric characters\n",
        "# - remove stopwords\n",
        "\n",
        "stop_words = set(stopwords.words('english'))\n",
        "\n",
        "def clean(dialogue):\n",
        "    dialogue = word_tokenize(dialogue)\n",
        "    dialogue = [word.lower() for word in dialogue]\n",
        "    punct = str.maketrans('', '', string.punctuation) \n",
        "    dialogue = [word.translate(punct) for word in dialogue] \n",
        "    dialogue = [word for word in dialogue if word.isalpha()]\n",
        "    dialogue = [word for word in dialogue if not word in stop_words]\n",
        "    return \" \".join(dialogue)\n",
        "\n",
        "df['clean_dialogue'] = df['dialogue'].apply(clean)"
      ],
      "execution_count": 283,
      "outputs": []
    },
    {
      "cell_type": "code",
      "metadata": {
        "id": "DaXTDs__Dbta"
      },
      "source": [
        "# Create Word Count Column for Clean Text\n",
        "df['clean_word_count'] = df['clean_dialogue'].str.split().str.len()"
      ],
      "execution_count": 284,
      "outputs": []
    },
    {
      "cell_type": "code",
      "metadata": {
        "colab": {
          "base_uri": "https://localhost:8080/",
          "height": 397
        },
        "id": "3yUhP9jlGnFk",
        "outputId": "040d00da-5fce-4839-dc69-2f8862a72f85"
      },
      "source": [
        "f, ax = plt.subplots(figsize=(6, 7))\n",
        "\n",
        "sns.set_color_codes(\"pastel\")\n",
        "sns.barplot(x=\"word_count\", y=\"character\", data=df, label=\"Total Word Count\", color=\"b\")\n",
        "\n",
        "sns.set_color_codes(\"muted\")\n",
        "sns.barplot(x=\"clean_word_count\", y=\"character\", data=df, label=\"Clean Word Count\", color=\"b\")\n",
        "\n",
        "ax.legend(bbox_to_anchor=(2, 1))\n",
        "ax.set(xlim=(0, 24), ylabel=\"\", xlabel=\"Total Words vs Clean Words\")\n",
        "sns.despine(left=True, bottom=True)"
      ],
      "execution_count": 285,
      "outputs": [
        {
          "output_type": "display_data",
          "data": {
            "image/png": "[encoded data removed]",
            "text/plain": [
              "<Figure size 432x504 with 1 Axes>"
            ]
          },
          "metadata": {
            "tags": [],
            "needs_background": "light"
          }
        }
      ]
    },
    {
      "cell_type": "code",
      "metadata": {
        "id": "4SVYPBAGGwnA"
      },
      "source": [
        "# Apply Sentiment Polarity to Text with TextBlob\n",
        "df['polarity'] = [round(TextBlob(word).sentiment.polarity, 2) for word in df['clean_dialogue']]\n",
        "df['sentiment'] = ['positive' if polarity > 0 \n",
        "                             else 'negative' if polarity < 0 \n",
        "                                 else 'neutral' \n",
        "                                     for polarity in df['polarity']]"
      ],
      "execution_count": 286,
      "outputs": []
    },
    {
      "cell_type": "markdown",
      "metadata": {
        "id": "uSHac4DEIX7C"
      },
      "source": [
        "**Sentiment Analysis**"
      ]
    },
    {
      "cell_type": "code",
      "metadata": {
        "colab": {
          "base_uri": "https://localhost:8080/",
          "height": 320
        },
        "id": "-sbfgCSNHoqk",
        "outputId": "cf6b2dd6-b80d-461c-bf53-ca473a8a7e14"
      },
      "source": [
        "df.sentiment.value_counts().plot(kind='pie',autopct='%1.1f%%')"
      ],
      "execution_count": 287,
      "outputs": [
        {
          "output_type": "execute_result",
          "data": {
            "text/plain": [
              "<matplotlib.axes._subplots.AxesSubplot at 0x7f1f4ce76110>"
            ]
          },
          "metadata": {
            "tags": []
          },
          "execution_count": 287
        },
        {
          "output_type": "display_data",
          "data": {
            "image/png": "[encoded data removed]",
            "text/plain": [
              "<Figure size 648x360 with 1 Axes>"
            ]
          },
          "metadata": {
            "tags": []
          }
        }
      ]
    },
    {
      "cell_type": "code",
      "metadata": {
        "colab": {
          "base_uri": "https://localhost:8080/",
          "height": 379
        },
        "id": "6PgG3CaHIUfE",
        "outputId": "16867643-eee4-4502-e82d-42a11866f3bd"
      },
      "source": [
        "sns.countplot(x='character',hue='sentiment',data=df,order=df.character.value_counts().iloc[:10].index)\n",
        "plt.title('Character Sentiment')"
      ],
      "execution_count": 288,
      "outputs": [
        {
          "output_type": "execute_result",
          "data": {
            "text/plain": [
              "Text(0.5, 1.0, 'Character Sentiment')"
            ]
          },
          "metadata": {
            "tags": []
          },
          "execution_count": 288
        },
        {
          "output_type": "display_data",
          "data": {
            "image/png": "[encoded data removed]",
            "text/plain": [
              "<Figure size 648x360 with 1 Axes>"
            ]
          },
          "metadata": {
            "tags": [],
            "needs_background": "light"
          }
        }
      ]
    },
    {
      "cell_type": "code",
      "metadata": {
        "id": "8YtqjCmoJe2S"
      },
      "source": [
        "# Build a counter function to count words\n",
        "def counter(dialogue):\n",
        "    cnt = Counter()\n",
        "    for msgs in dialogue:\n",
        "        for msg in msgs:\n",
        "            cnt[msg] += 1\n",
        "    return cnt"
      ],
      "execution_count": 289,
      "outputs": []
    },
    {
      "cell_type": "markdown",
      "metadata": {
        "id": "KTyNmlPzgnVw"
      },
      "source": [
        "**Finding out if \"HONOR\" was the most said word by Zuko**"
      ]
    },
    {
      "cell_type": "code",
      "metadata": {
        "colab": {
          "base_uri": "https://localhost:8080/"
        },
        "id": "eaICoH4QKexf",
        "outputId": "4bf01a14-e53c-4b1a-bcb8-3430bec0ec0c"
      },
      "source": [
        "import sys\n",
        "\n",
        "if not sys.warnoptions:\n",
        "    import warnings\n",
        "    warnings.simplefilter(\"ignore\")\n",
        "\n",
        "zuko = df.groupby('character')\n",
        "zuko = zuko.get_group(('Zuko'))\n",
        "zuko['clean_dialogue'] = zuko['clean_dialogue'].apply(lambda x: word_tokenize(x))\n",
        "text_cnt = counter(zuko['clean_dialogue'])\n",
        "j = text_cnt.most_common()"
      ],
      "execution_count": 290,
      "outputs": [
        {
          "output_type": "stream",
          "text": [
            "/usr/local/lib/python3.7/dist-packages/ipykernel_launcher.py:9: SettingWithCopyWarning: \n",
            "A value is trying to be set on a copy of a slice from a DataFrame.\n",
            "Try using .loc[row_indexer,col_indexer] = value instead\n",
            "\n",
            "See the caveats in the documentation: https://pandas.pydata.org/pandas-docs/stable/user_guide/indexing.html#returning-a-view-versus-a-copy\n",
            "  if __name__ == '__main__':\n"
          ],
          "name": "stderr"
        }
      ]
    },
    {
      "cell_type": "code",
      "metadata": {
        "colab": {
          "base_uri": "https://localhost:8080/",
          "height": 379
        },
        "id": "814MgujWQVrQ",
        "outputId": "b5ae17ba-cad2-42fd-bb95-cb56f508dcc1"
      },
      "source": [
        "j = pd.DataFrame(j, columns = ['Words', 'Counts'])\n",
        "j = j.sort_values(by='Counts', ascending=False)[1:10]\n",
        "\n",
        "colors = sns.color_palette(\"dark:salmon_r\",len(j))\n",
        "\n",
        "plt.figure(figsize=(10,5))\n",
        "sns.barplot(y = 'Words' , x = 'Counts', data=j, palette=colors)\n",
        "plt.title('''Zuko's Most Common Words''')"
      ],
      "execution_count": 291,
      "outputs": [
        {
          "output_type": "execute_result",
          "data": {
            "text/plain": [
              "Text(0.5, 1.0, \"Zuko's Most Common Words\")"
            ]
          },
          "metadata": {
            "tags": []
          },
          "execution_count": 291
        },
        {
          "output_type": "display_data",
          "data": {
            "image/png": "[encoded data removed]",
            "text/plain": [
              "<Figure size 720x360 with 1 Axes>"
            ]
          },
          "metadata": {
            "tags": [],
            "needs_background": "light"
          }
        }
      ]
    },
    {
      "cell_type": "code",
      "metadata": {
        "colab": {
          "base_uri": "https://localhost:8080/"
        },
        "id": "0vd1MtRhSVjQ",
        "outputId": "d7efe73c-1bd8-4d34-91e5-26a05a688fba"
      },
      "source": [
        "aang= df.groupby('character')\n",
        "aang = aang.get_group(('Aang'))\n",
        "aang['clean_dialogue'] = aang['clean_dialogue'].apply(lambda x: word_tokenize(x))\n",
        "aang_cnt = counter(aang['clean_dialogue'])\n",
        "\n",
        "katara = df.groupby('character')\n",
        "katara = katara.get_group(('Katara'))\n",
        "katara['clean_dialogue'] = katara['clean_dialogue'].apply(lambda x: word_tokenize(x))\n",
        "katara_cnt = counter(katara['clean_dialogue'])\n",
        "\n",
        "sokka = df.groupby('character')\n",
        "sokka = sokka.get_group(('Sokka'))\n",
        "sokka['clean_dialogue'] = sokka['clean_dialogue'].apply(lambda x: word_tokenize(x))\n",
        "sokka_cnt = counter(sokka['clean_dialogue'])\n",
        "\n",
        "iroh = df.groupby('character')\n",
        "iroh = iroh.get_group(('Iroh'))\n",
        "iroh['clean_dialogue'] = iroh['clean_dialogue'].apply(lambda x: word_tokenize(x))\n",
        "iroh_cnt = counter(iroh['clean_dialogue'])\n",
        "\n",
        "toph = df.groupby('character')\n",
        "toph = toph.get_group(('Toph'))\n",
        "toph['clean_dialogue'] = toph['clean_dialogue'].apply(lambda x: word_tokenize(x))\n",
        "toph_cnt = counter(toph['clean_dialogue'])\n",
        "\n",
        "\n",
        "a = aang_cnt.most_common()\n",
        "k = katara_cnt.most_common()\n",
        "s = sokka_cnt.most_common()\n",
        "t=  toph_cnt.most_common()\n",
        "i= iroh_cnt.most_common()"
      ],
      "execution_count": 292,
      "outputs": [
        {
          "output_type": "stream",
          "text": [
            "/usr/local/lib/python3.7/dist-packages/ipykernel_launcher.py:3: SettingWithCopyWarning: \n",
            "A value is trying to be set on a copy of a slice from a DataFrame.\n",
            "Try using .loc[row_indexer,col_indexer] = value instead\n",
            "\n",
            "See the caveats in the documentation: https://pandas.pydata.org/pandas-docs/stable/user_guide/indexing.html#returning-a-view-versus-a-copy\n",
            "  This is separate from the ipykernel package so we can avoid doing imports until\n",
            "/usr/local/lib/python3.7/dist-packages/ipykernel_launcher.py:8: SettingWithCopyWarning: \n",
            "A value is trying to be set on a copy of a slice from a DataFrame.\n",
            "Try using .loc[row_indexer,col_indexer] = value instead\n",
            "\n",
            "See the caveats in the documentation: https://pandas.pydata.org/pandas-docs/stable/user_guide/indexing.html#returning-a-view-versus-a-copy\n",
            "  \n",
            "/usr/local/lib/python3.7/dist-packages/ipykernel_launcher.py:13: SettingWithCopyWarning: \n",
            "A value is trying to be set on a copy of a slice from a DataFrame.\n",
            "Try using .loc[row_indexer,col_indexer] = value instead\n",
            "\n",
            "See the caveats in the documentation: https://pandas.pydata.org/pandas-docs/stable/user_guide/indexing.html#returning-a-view-versus-a-copy\n",
            "  del sys.path[0]\n",
            "/usr/local/lib/python3.7/dist-packages/ipykernel_launcher.py:18: SettingWithCopyWarning: \n",
            "A value is trying to be set on a copy of a slice from a DataFrame.\n",
            "Try using .loc[row_indexer,col_indexer] = value instead\n",
            "\n",
            "See the caveats in the documentation: https://pandas.pydata.org/pandas-docs/stable/user_guide/indexing.html#returning-a-view-versus-a-copy\n",
            "/usr/local/lib/python3.7/dist-packages/ipykernel_launcher.py:23: SettingWithCopyWarning: \n",
            "A value is trying to be set on a copy of a slice from a DataFrame.\n",
            "Try using .loc[row_indexer,col_indexer] = value instead\n",
            "\n",
            "See the caveats in the documentation: https://pandas.pydata.org/pandas-docs/stable/user_guide/indexing.html#returning-a-view-versus-a-copy\n"
          ],
          "name": "stderr"
        }
      ]
    },
    {
      "cell_type": "code",
      "metadata": {
        "colab": {
          "base_uri": "https://localhost:8080/",
          "height": 379
        },
        "id": "SjEryJdmVtem",
        "outputId": "6202858f-1b0a-416c-d291-3d9b01f73aa2"
      },
      "source": [
        "i = pd.DataFrame(i, columns = ['Words', 'Counts'])\n",
        "i = i.sort_values(by='Counts', ascending=False)[1:10]\n",
        "\n",
        "colors = sns.color_palette(\"dark:salmon_r\",len(i))\n",
        "\n",
        "plt.figure(figsize=(10,5))\n",
        "sns.barplot(y = 'Words' , x = 'Counts', data=i, palette=colors)\n",
        "plt.title('''Iroh's Most Common Words''')"
      ],
      "execution_count": 294,
      "outputs": [
        {
          "output_type": "execute_result",
          "data": {
            "text/plain": [
              "Text(0.5, 1.0, \"Iroh's Most Common Words\")"
            ]
          },
          "metadata": {
            "tags": []
          },
          "execution_count": 294
        },
        {
          "output_type": "display_data",
          "data": {
            "image/png": "[encoded data removed]",
            "text/plain": [
              "<Figure size 720x360 with 1 Axes>"
            ]
          },
          "metadata": {
            "tags": [],
            "needs_background": "light"
          }
        }
      ]
    },
    {
      "cell_type": "code",
      "metadata": {
        "colab": {
          "base_uri": "https://localhost:8080/",
          "height": 379
        },
        "id": "2HBBT81cUoOS",
        "outputId": "1e80b6fd-ef15-46ac-d8ea-b3b0ff00e8e6"
      },
      "source": [
        "a = pd.DataFrame(a, columns = ['Words', 'Counts'])\n",
        "a = a.sort_values(by='Counts', ascending=False)[1:10]\n",
        "\n",
        "colors = sns.color_palette(\"YlOrBr_r\",len(a))\n",
        "\n",
        "plt.figure(figsize=(10,5))\n",
        "sns.barplot(y = 'Words' , x = 'Counts', data=a, palette=colors)\n",
        "plt.title('''Aang's Most Common Words''')"
      ],
      "execution_count": 295,
      "outputs": [
        {
          "output_type": "execute_result",
          "data": {
            "text/plain": [
              "Text(0.5, 1.0, \"Aang's Most Common Words\")"
            ]
          },
          "metadata": {
            "tags": []
          },
          "execution_count": 295
        },
        {
          "output_type": "display_data",
          "data": {
            "image/png": "[encoded data removed]",
            "text/plain": [
              "<Figure size 720x360 with 1 Axes>"
            ]
          },
          "metadata": {
            "tags": [],
            "needs_background": "light"
          }
        }
      ]
    },
    {
      "cell_type": "code",
      "metadata": {
        "colab": {
          "base_uri": "https://localhost:8080/",
          "height": 379
        },
        "id": "ihEdNvjRVps6",
        "outputId": "c065587d-17b7-4266-abbb-b2157fd37c36"
      },
      "source": [
        "t = pd.DataFrame(t, columns = ['Words', 'Counts'])\n",
        "t = t.sort_values(by='Counts', ascending=False)[1:10]\n",
        "\n",
        "colors = sns.dark_palette(\"seagreen\",len(t))\n",
        "\n",
        "plt.figure(figsize=(10,5))\n",
        "sns.barplot(y = 'Words' , x = 'Counts', data=t, palette=colors)\n",
        "plt.title('''Toph's Most Common Words''')"
      ],
      "execution_count": 296,
      "outputs": [
        {
          "output_type": "execute_result",
          "data": {
            "text/plain": [
              "Text(0.5, 1.0, \"Toph's Most Common Words\")"
            ]
          },
          "metadata": {
            "tags": []
          },
          "execution_count": 296
        },
        {
          "output_type": "display_data",
          "data": {
            "image/png": "[encoded data removed]",
            "text/plain": [
              "<Figure size 720x360 with 1 Axes>"
            ]
          },
          "metadata": {
            "tags": [],
            "needs_background": "light"
          }
        }
      ]
    },
    {
      "cell_type": "code",
      "metadata": {
        "colab": {
          "base_uri": "https://localhost:8080/",
          "height": 379
        },
        "id": "n_2XUMp4V13m",
        "outputId": "17b149c8-fa6c-4640-ed67-c196925b605f"
      },
      "source": [
        "s = pd.DataFrame(s, columns = ['Words', 'Counts'])\n",
        "s = s.sort_values(by='Counts', ascending=False)[1:10]\n",
        "\n",
        "colors = sns.color_palette(\"winter\",len(s))\n",
        "\n",
        "plt.figure(figsize=(10,5))\n",
        "sns.barplot(y = 'Words' , x = 'Counts', data=s, palette=colors)\n",
        "plt.title('''Sokka's Most Common Words''')"
      ],
      "execution_count": 297,
      "outputs": [
        {
          "output_type": "execute_result",
          "data": {
            "text/plain": [
              "Text(0.5, 1.0, \"Sokka's Most Common Words\")"
            ]
          },
          "metadata": {
            "tags": []
          },
          "execution_count": 297
        },
        {
          "output_type": "display_data",
          "data": {
            "image/png": "[encoded data removed]",
            "text/plain": [
              "<Figure size 720x360 with 1 Axes>"
            ]
          },
          "metadata": {
            "tags": [],
            "needs_background": "light"
          }
        }
      ]
    },
    {
      "cell_type": "code",
      "metadata": {
        "colab": {
          "base_uri": "https://localhost:8080/",
          "height": 379
        },
        "id": "nb0g62ytXC8G",
        "outputId": "d1d60ad5-1cba-4a05-e138-0a306d7fb1de"
      },
      "source": [
        "k = pd.DataFrame(k, columns = ['Words', 'Counts'])\n",
        "k = k.sort_values(by='Counts', ascending=False)[1:10]\n",
        "\n",
        "colors = sns.color_palette(\"winter\",len(k))\n",
        "\n",
        "plt.figure(figsize=(10,5))\n",
        "sns.barplot(y = 'Words' , x = 'Counts', data=k, palette=colors)\n",
        "plt.title('''Katara's Most Common Words''')"
      ],
      "execution_count": 298,
      "outputs": [
        {
          "output_type": "execute_result",
          "data": {
            "text/plain": [
              "Text(0.5, 1.0, \"Katara's Most Common Words\")"
            ]
          },
          "metadata": {
            "tags": []
          },
          "execution_count": 298
        },
        {
          "output_type": "display_data",
          "data": {
            "image/png": "[encoded data removed]",
            "text/plain": [
              "<Figure size 720x360 with 1 Axes>"
            ]
          },
          "metadata": {
            "tags": [],
            "needs_background": "light"
          }
        }
      ]
    },
    {
      "cell_type": "code",
      "metadata": {
        "id": "SsugFG6tY7IT"
      },
      "source": [
        "df2 = pd.DataFrame(columns=[\"Character\", \"Book\", \"words\"])"
      ],
      "execution_count": 224,
      "outputs": []
    },
    {
      "cell_type": "code",
      "metadata": {
        "id": "zXucttwUalbj"
      },
      "source": [
        "data1=pd.read_excel(io.BytesIO(uploaded['avatar.xls'])) \n",
        "data1.drop(data1.columns[[0,1,2,4,5,7,9,10,11]], axis = 1, inplace = True)"
      ],
      "execution_count": 225,
      "outputs": []
    },
    {
      "cell_type": "code",
      "metadata": {
        "id": "SG9ULUX9am9z"
      },
      "source": [
        "data1 = data1.rename(columns={\"character_words\":\"dialogue\"})"
      ],
      "execution_count": 226,
      "outputs": []
    },
    {
      "cell_type": "code",
      "metadata": {
        "id": "Hya15UEHbBM_"
      },
      "source": [
        "data1 = data1.dropna(axis=0, how='any', thresh=None, subset=None, inplace=False)"
      ],
      "execution_count": 227,
      "outputs": []
    },
    {
      "cell_type": "code",
      "metadata": {
        "colab": {
          "base_uri": "https://localhost:8080/"
        },
        "id": "ZfGKb7JMbQJ4",
        "outputId": "3d88fdf8-b75a-4c9a-cf70-c7c029be294f"
      },
      "source": [
        "data1.isnull().sum()"
      ],
      "execution_count": 228,
      "outputs": [
        {
          "output_type": "execute_result",
          "data": {
            "text/plain": [
              "book_num     0\n",
              "character    0\n",
              "dialogue     0\n",
              "dtype: int64"
            ]
          },
          "metadata": {
            "tags": []
          },
          "execution_count": 228
        }
      ]
    },
    {
      "cell_type": "code",
      "metadata": {
        "colab": {
          "base_uri": "https://localhost:8080/",
          "height": 80
        },
        "id": "IFpasZigbSkj",
        "outputId": "a3d81e3a-b4ba-4085-a5aa-7e2175424363"
      },
      "source": [
        "data1.sample()"
      ],
      "execution_count": 229,
      "outputs": [
        {
          "output_type": "execute_result",
          "data": {
            "text/html": [
              "<div>\n",
              "<style scoped>\n",
              "    .dataframe tbody tr th:only-of-type {\n",
              "        vertical-align: middle;\n",
              "    }\n",
              "\n",
              "    .dataframe tbody tr th {\n",
              "        vertical-align: top;\n",
              "    }\n",
              "\n",
              "    .dataframe thead th {\n",
              "        text-align: right;\n",
              "    }\n",
              "</style>\n",
              "<table border=\"1\" class=\"dataframe\">\n",
              "  <thead>\n",
              "    <tr style=\"text-align: right;\">\n",
              "      <th></th>\n",
              "      <th>book_num</th>\n",
              "      <th>character</th>\n",
              "      <th>dialogue</th>\n",
              "    </tr>\n",
              "  </thead>\n",
              "  <tbody>\n",
              "    <tr>\n",
              "      <th>13067</th>\n",
              "      <td>3</td>\n",
              "      <td>Zuko</td>\n",
              "      <td>Where ... where is he?</td>\n",
              "    </tr>\n",
              "  </tbody>\n",
              "</table>\n",
              "</div>"
            ],
            "text/plain": [
              "       book_num character                dialogue\n",
              "13067         3      Zuko  Where ... where is he?"
            ]
          },
          "metadata": {
            "tags": []
          },
          "execution_count": 229
        }
      ]
    },
    {
      "cell_type": "code",
      "metadata": {
        "id": "c4W2k_e_bUr-"
      },
      "source": [
        "removelst = data1.character.value_counts().iloc[5:].index.tolist()\n",
        "for name in removelst:\n",
        "    data1 = data1[data1['character'] != name]"
      ],
      "execution_count": 230,
      "outputs": []
    },
    {
      "cell_type": "code",
      "metadata": {
        "id": "60k5U0v5buZw"
      },
      "source": [
        "data1['word_count'] = data1['dialogue'].str.split().str.len()"
      ],
      "execution_count": 231,
      "outputs": []
    },
    {
      "cell_type": "code",
      "metadata": {
        "id": "wjkTvhTkcLK5"
      },
      "source": [
        "data1.to_excel('data1.xlsx', index = False)"
      ],
      "execution_count": 207,
      "outputs": []
    },
    {
      "cell_type": "code",
      "metadata": {
        "id": "p54SGOtYb2WR"
      },
      "source": [
        "# This can be optimized\n",
        "for character in [\"Aang\", \"Katara\", \"Sokka\"]:\n",
        "    a1 = data1.loc[1:2243].loc[data1['character'] == character][\"word_count\"].count()\n",
        "    a2 = data1.loc[2244:4057].loc[data1['character'] == character][\"word_count\"].count()\n",
        "    a3 = data1.loc[4058:6155].loc[data1['character'] == character][\"word_count\"].count()\n",
        "    \n",
        "    df2 = df2.append({'Character' : character , 'Book' : \"Water\", \"words\" : a1} , ignore_index=True)\n",
        "    df2 = df2.append({'Character' : character , 'Book' : \"Earth\", \"words\" : a2} , ignore_index=True)\n",
        "    df2 = df2.append({'Character' : character , 'Book' : \"Fire\", \"words\" : a3} , ignore_index=True)\n",
        "    "
      ],
      "execution_count": 235,
      "outputs": []
    },
    {
      "cell_type": "code",
      "metadata": {
        "colab": {
          "base_uri": "https://localhost:8080/",
          "height": 379
        },
        "id": "T86NLl35dk6Q",
        "outputId": "ed8d8a95-8756-4de0-85ac-f5bac89d90ea"
      },
      "source": [
        "sns.barplot(x='Character',y='words', hue='Book',data=df2, order = data1.character.value_counts().iloc[:3].index)\n",
        "ax.legend(bbox_to_anchor=(2, 1))\n",
        "plt.title('Character Word Counts')"
      ],
      "execution_count": 237,
      "outputs": [
        {
          "output_type": "execute_result",
          "data": {
            "text/plain": [
              "Text(0.5, 1.0, 'Character Word Counts')"
            ]
          },
          "metadata": {
            "tags": []
          },
          "execution_count": 237
        },
        {
          "output_type": "display_data",
          "data": {
            "image/png": "[encoded data removed]",
            "text/plain": [
              "<Figure size 648x360 with 1 Axes>"
            ]
          },
          "metadata": {
            "tags": [],
            "needs_background": "light"
          }
        }
      ]
    }
  ]
}