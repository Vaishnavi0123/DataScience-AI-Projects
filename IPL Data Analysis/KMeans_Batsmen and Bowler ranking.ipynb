{
  "nbformat": 4,
  "nbformat_minor": 0,
  "metadata": {
    "colab": {
      "name": "IPL_WHISTLE_PODU.ipynb",
      "provenance": []
    },
    "kernelspec": {
      "name": "python3",
      "display_name": "Python 3"
    },
    "language_info": {
      "name": "python"
    }
  },
  "cells": [
    {
      "cell_type": "markdown",
      "metadata": {
        "id": "p47YJpY9oisS"
      },
      "source": [
        "**Clustering Batsmen and Bowlers according to their Performance in IPL**"
      ]
    },
    {
      "cell_type": "code",
      "metadata": {
        "id": "X3Nv6y91osD5"
      },
      "source": [
        "import pandas as pd\n",
        "import io\n",
        "import numpy as np\n",
        "import matplotlib.pyplot as plt\n",
        "import seaborn as sns\n",
        "from io import StringIO\n",
        "from sklearn.cluster import KMeans"
      ],
      "execution_count": null,
      "outputs": []
    },
    {
      "cell_type": "code",
      "metadata": {
        "colab": {
          "resources": {
            "http://localhost:8080/nbextensions/google.colab/files.js": {
              "data": "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",
              "ok": true,
              "headers": [
                [
                  "content-type",
                  "application/javascript"
                ]
              ],
              "status": 200,
              "status_text": ""
            }
          },
          "base_uri": "https://localhost:8080/",
          "height": 74
        },
        "id": "Ryb7-qej9Gcv",
        "outputId": "2c207750-8202-43c9-88cc-e4a515d5e334"
      },
      "source": [
        "from google.colab import files\n",
        "uploaded=files.upload()"
      ],
      "execution_count": null,
      "outputs": [
        {
          "output_type": "display_data",
          "data": {
            "text/html": [
              "\n",
              "     <input type=\"file\" id=\"files-7c56e0e6-48ce-4952-80c8-6e5815091b5a\" name=\"files[]\" multiple disabled\n",
              "        style=\"border:none\" />\n",
              "     <output id=\"result-7c56e0e6-48ce-4952-80c8-6e5815091b5a\">\n",
              "      Upload widget is only available when the cell has been executed in the\n",
              "      current browser session. Please rerun this cell to enable.\n",
              "      </output>\n",
              "      <script src=\"/nbextensions/google.colab/files.js\"></script> "
            ],
            "text/plain": [
              "<IPython.core.display.HTML object>"
            ]
          },
          "metadata": {
            "tags": []
          }
        },
        {
          "output_type": "stream",
          "text": [
            "Saving IPL Ball-by-Ball 2008-2020.csv to IPL Ball-by-Ball 2008-2020.csv\n"
          ],
          "name": "stdout"
        }
      ]
    },
    {
      "cell_type": "code",
      "metadata": {
        "colab": {
          "base_uri": "https://localhost:8080/",
          "height": 418
        },
        "id": "8xP-j9iKDuJA",
        "outputId": "25aed07a-6340-4b61-bd7b-70181023921d"
      },
      "source": [
        "runs=pd.read_csv(io.BytesIO(uploaded['IPL Ball-by-Ball 2008-2020.csv'])) \n",
        "runs.head()"
      ],
      "execution_count": null,
      "outputs": [
        {
          "output_type": "stream",
          "text": [
            "/usr/local/lib/python3.7/dist-packages/IPython/core/interactiveshell.py:2718: DtypeWarning: Columns (1) have mixed types.Specify dtype option on import or set low_memory=False.\n",
            "  interactivity=interactivity, compiler=compiler, result=result)\n"
          ],
          "name": "stderr"
        },
        {
          "output_type": "execute_result",
          "data": {
            "text/html": [
              "<div>\n",
              "<style scoped>\n",
              "    .dataframe tbody tr th:only-of-type {\n",
              "        vertical-align: middle;\n",
              "    }\n",
              "\n",
              "    .dataframe tbody tr th {\n",
              "        vertical-align: top;\n",
              "    }\n",
              "\n",
              "    .dataframe thead th {\n",
              "        text-align: right;\n",
              "    }\n",
              "</style>\n",
              "<table border=\"1\" class=\"dataframe\">\n",
              "  <thead>\n",
              "    <tr style=\"text-align: right;\">\n",
              "      <th></th>\n",
              "      <th>match_id</th>\n",
              "      <th>season</th>\n",
              "      <th>start_date</th>\n",
              "      <th>venue</th>\n",
              "      <th>innings</th>\n",
              "      <th>ball</th>\n",
              "      <th>batting_team</th>\n",
              "      <th>bowling_team</th>\n",
              "      <th>striker</th>\n",
              "      <th>non_striker</th>\n",
              "      <th>bowler</th>\n",
              "      <th>runs_off_bat</th>\n",
              "      <th>extras</th>\n",
              "      <th>wides</th>\n",
              "      <th>noballs</th>\n",
              "      <th>byes</th>\n",
              "      <th>legbyes</th>\n",
              "      <th>penalty</th>\n",
              "      <th>wicket_type</th>\n",
              "      <th>player_dismissed</th>\n",
              "      <th>other_wicket_type</th>\n",
              "      <th>other_player_dismissed</th>\n",
              "    </tr>\n",
              "  </thead>\n",
              "  <tbody>\n",
              "    <tr>\n",
              "      <th>0</th>\n",
              "      <td>335982</td>\n",
              "      <td>2007/08</td>\n",
              "      <td>2008-04-18</td>\n",
              "      <td>M Chinnaswamy Stadium</td>\n",
              "      <td>1</td>\n",
              "      <td>0.1</td>\n",
              "      <td>Kolkata Knight Riders</td>\n",
              "      <td>Royal Challengers Bangalore</td>\n",
              "      <td>SC Ganguly</td>\n",
              "      <td>BB McCullum</td>\n",
              "      <td>P Kumar</td>\n",
              "      <td>0</td>\n",
              "      <td>1</td>\n",
              "      <td>NaN</td>\n",
              "      <td>NaN</td>\n",
              "      <td>NaN</td>\n",
              "      <td>1.0</td>\n",
              "      <td>NaN</td>\n",
              "      <td>NaN</td>\n",
              "      <td>NaN</td>\n",
              "      <td>NaN</td>\n",
              "      <td>NaN</td>\n",
              "    </tr>\n",
              "    <tr>\n",
              "      <th>1</th>\n",
              "      <td>335982</td>\n",
              "      <td>2007/08</td>\n",
              "      <td>2008-04-18</td>\n",
              "      <td>M Chinnaswamy Stadium</td>\n",
              "      <td>1</td>\n",
              "      <td>0.2</td>\n",
              "      <td>Kolkata Knight Riders</td>\n",
              "      <td>Royal Challengers Bangalore</td>\n",
              "      <td>BB McCullum</td>\n",
              "      <td>SC Ganguly</td>\n",
              "      <td>P Kumar</td>\n",
              "      <td>0</td>\n",
              "      <td>0</td>\n",
              "      <td>NaN</td>\n",
              "      <td>NaN</td>\n",
              "      <td>NaN</td>\n",
              "      <td>NaN</td>\n",
              "      <td>NaN</td>\n",
              "      <td>NaN</td>\n",
              "      <td>NaN</td>\n",
              "      <td>NaN</td>\n",
              "      <td>NaN</td>\n",
              "    </tr>\n",
              "    <tr>\n",
              "      <th>2</th>\n",
              "      <td>335982</td>\n",
              "      <td>2007/08</td>\n",
              "      <td>2008-04-18</td>\n",
              "      <td>M Chinnaswamy Stadium</td>\n",
              "      <td>1</td>\n",
              "      <td>0.3</td>\n",
              "      <td>Kolkata Knight Riders</td>\n",
              "      <td>Royal Challengers Bangalore</td>\n",
              "      <td>BB McCullum</td>\n",
              "      <td>SC Ganguly</td>\n",
              "      <td>P Kumar</td>\n",
              "      <td>0</td>\n",
              "      <td>1</td>\n",
              "      <td>1.0</td>\n",
              "      <td>NaN</td>\n",
              "      <td>NaN</td>\n",
              "      <td>NaN</td>\n",
              "      <td>NaN</td>\n",
              "      <td>NaN</td>\n",
              "      <td>NaN</td>\n",
              "      <td>NaN</td>\n",
              "      <td>NaN</td>\n",
              "    </tr>\n",
              "    <tr>\n",
              "      <th>3</th>\n",
              "      <td>335982</td>\n",
              "      <td>2007/08</td>\n",
              "      <td>2008-04-18</td>\n",
              "      <td>M Chinnaswamy Stadium</td>\n",
              "      <td>1</td>\n",
              "      <td>0.4</td>\n",
              "      <td>Kolkata Knight Riders</td>\n",
              "      <td>Royal Challengers Bangalore</td>\n",
              "      <td>BB McCullum</td>\n",
              "      <td>SC Ganguly</td>\n",
              "      <td>P Kumar</td>\n",
              "      <td>0</td>\n",
              "      <td>0</td>\n",
              "      <td>NaN</td>\n",
              "      <td>NaN</td>\n",
              "      <td>NaN</td>\n",
              "      <td>NaN</td>\n",
              "      <td>NaN</td>\n",
              "      <td>NaN</td>\n",
              "      <td>NaN</td>\n",
              "      <td>NaN</td>\n",
              "      <td>NaN</td>\n",
              "    </tr>\n",
              "    <tr>\n",
              "      <th>4</th>\n",
              "      <td>335982</td>\n",
              "      <td>2007/08</td>\n",
              "      <td>2008-04-18</td>\n",
              "      <td>M Chinnaswamy Stadium</td>\n",
              "      <td>1</td>\n",
              "      <td>0.5</td>\n",
              "      <td>Kolkata Knight Riders</td>\n",
              "      <td>Royal Challengers Bangalore</td>\n",
              "      <td>BB McCullum</td>\n",
              "      <td>SC Ganguly</td>\n",
              "      <td>P Kumar</td>\n",
              "      <td>0</td>\n",
              "      <td>0</td>\n",
              "      <td>NaN</td>\n",
              "      <td>NaN</td>\n",
              "      <td>NaN</td>\n",
              "      <td>NaN</td>\n",
              "      <td>NaN</td>\n",
              "      <td>NaN</td>\n",
              "      <td>NaN</td>\n",
              "      <td>NaN</td>\n",
              "      <td>NaN</td>\n",
              "    </tr>\n",
              "  </tbody>\n",
              "</table>\n",
              "</div>"
            ],
            "text/plain": [
              "   match_id   season  ... other_wicket_type other_player_dismissed\n",
              "0    335982  2007/08  ...               NaN                    NaN\n",
              "1    335982  2007/08  ...               NaN                    NaN\n",
              "2    335982  2007/08  ...               NaN                    NaN\n",
              "3    335982  2007/08  ...               NaN                    NaN\n",
              "4    335982  2007/08  ...               NaN                    NaN\n",
              "\n",
              "[5 rows x 22 columns]"
            ]
          },
          "metadata": {
            "tags": []
          },
          "execution_count": 4
        }
      ]
    },
    {
      "cell_type": "code",
      "metadata": {
        "colab": {
          "base_uri": "https://localhost:8080/",
          "height": 195
        },
        "id": "44PrZWlaRfQK",
        "outputId": "ac18b96f-a973-4a76-c687-a147fc880227"
      },
      "source": [
        "# Keeping only relevant data for analysis\n",
        "runs = runs[[\"match_id\", \"ball\", \"striker\",\"bowler\", \"runs_off_bat\", \"extras\" , \"wides\", \"noballs\", \"legbyes\", \"player_dismissed\"]]\n",
        "runs.head()"
      ],
      "execution_count": null,
      "outputs": [
        {
          "output_type": "execute_result",
          "data": {
            "text/html": [
              "<div>\n",
              "<style scoped>\n",
              "    .dataframe tbody tr th:only-of-type {\n",
              "        vertical-align: middle;\n",
              "    }\n",
              "\n",
              "    .dataframe tbody tr th {\n",
              "        vertical-align: top;\n",
              "    }\n",
              "\n",
              "    .dataframe thead th {\n",
              "        text-align: right;\n",
              "    }\n",
              "</style>\n",
              "<table border=\"1\" class=\"dataframe\">\n",
              "  <thead>\n",
              "    <tr style=\"text-align: right;\">\n",
              "      <th></th>\n",
              "      <th>match_id</th>\n",
              "      <th>ball</th>\n",
              "      <th>striker</th>\n",
              "      <th>bowler</th>\n",
              "      <th>runs_off_bat</th>\n",
              "      <th>extras</th>\n",
              "      <th>wides</th>\n",
              "      <th>noballs</th>\n",
              "      <th>legbyes</th>\n",
              "      <th>player_dismissed</th>\n",
              "    </tr>\n",
              "  </thead>\n",
              "  <tbody>\n",
              "    <tr>\n",
              "      <th>0</th>\n",
              "      <td>335982</td>\n",
              "      <td>0.1</td>\n",
              "      <td>SC Ganguly</td>\n",
              "      <td>P Kumar</td>\n",
              "      <td>0</td>\n",
              "      <td>1</td>\n",
              "      <td>NaN</td>\n",
              "      <td>NaN</td>\n",
              "      <td>1.0</td>\n",
              "      <td>NaN</td>\n",
              "    </tr>\n",
              "    <tr>\n",
              "      <th>1</th>\n",
              "      <td>335982</td>\n",
              "      <td>0.2</td>\n",
              "      <td>BB McCullum</td>\n",
              "      <td>P Kumar</td>\n",
              "      <td>0</td>\n",
              "      <td>0</td>\n",
              "      <td>NaN</td>\n",
              "      <td>NaN</td>\n",
              "      <td>NaN</td>\n",
              "      <td>NaN</td>\n",
              "    </tr>\n",
              "    <tr>\n",
              "      <th>2</th>\n",
              "      <td>335982</td>\n",
              "      <td>0.3</td>\n",
              "      <td>BB McCullum</td>\n",
              "      <td>P Kumar</td>\n",
              "      <td>0</td>\n",
              "      <td>1</td>\n",
              "      <td>1.0</td>\n",
              "      <td>NaN</td>\n",
              "      <td>NaN</td>\n",
              "      <td>NaN</td>\n",
              "    </tr>\n",
              "    <tr>\n",
              "      <th>3</th>\n",
              "      <td>335982</td>\n",
              "      <td>0.4</td>\n",
              "      <td>BB McCullum</td>\n",
              "      <td>P Kumar</td>\n",
              "      <td>0</td>\n",
              "      <td>0</td>\n",
              "      <td>NaN</td>\n",
              "      <td>NaN</td>\n",
              "      <td>NaN</td>\n",
              "      <td>NaN</td>\n",
              "    </tr>\n",
              "    <tr>\n",
              "      <th>4</th>\n",
              "      <td>335982</td>\n",
              "      <td>0.5</td>\n",
              "      <td>BB McCullum</td>\n",
              "      <td>P Kumar</td>\n",
              "      <td>0</td>\n",
              "      <td>0</td>\n",
              "      <td>NaN</td>\n",
              "      <td>NaN</td>\n",
              "      <td>NaN</td>\n",
              "      <td>NaN</td>\n",
              "    </tr>\n",
              "  </tbody>\n",
              "</table>\n",
              "</div>"
            ],
            "text/plain": [
              "   match_id  ball      striker  ... noballs  legbyes  player_dismissed\n",
              "0    335982   0.1   SC Ganguly  ...     NaN      1.0               NaN\n",
              "1    335982   0.2  BB McCullum  ...     NaN      NaN               NaN\n",
              "2    335982   0.3  BB McCullum  ...     NaN      NaN               NaN\n",
              "3    335982   0.4  BB McCullum  ...     NaN      NaN               NaN\n",
              "4    335982   0.5  BB McCullum  ...     NaN      NaN               NaN\n",
              "\n",
              "[5 rows x 10 columns]"
            ]
          },
          "metadata": {
            "tags": []
          },
          "execution_count": 5
        }
      ]
    },
    {
      "cell_type": "code",
      "metadata": {
        "colab": {
          "base_uri": "https://localhost:8080/"
        },
        "id": "bqVeppi1RvQi",
        "outputId": "2cfc9be6-d266-4745-d873-9cc6ce3f9027"
      },
      "source": [
        "runs.isnull().sum()"
      ],
      "execution_count": null,
      "outputs": [
        {
          "output_type": "execute_result",
          "data": {
            "text/plain": [
              "match_id                 0\n",
              "ball                     0\n",
              "striker                  0\n",
              "bowler                   0\n",
              "runs_off_bat             0\n",
              "extras                   0\n",
              "wides               187753\n",
              "noballs             192848\n",
              "legbyes             190506\n",
              "player_dismissed    184095\n",
              "dtype: int64"
            ]
          },
          "metadata": {
            "tags": []
          },
          "execution_count": 6
        }
      ]
    },
    {
      "cell_type": "code",
      "metadata": {
        "id": "xmgIKPn3uUZy"
      },
      "source": [
        "runs[\"noballs\"] = runs[\"noballs\"].fillna(0)\n",
        "runs[\"legbyes\"] = runs[\"legbyes\"].fillna(0)\n",
        "runs[\"wides\"] = runs[\"wides\"].fillna(0)\n",
        "runs[\"player_dismissed\"] = runs[\"player_dismissed\"].fillna(0)"
      ],
      "execution_count": null,
      "outputs": []
    },
    {
      "cell_type": "code",
      "metadata": {
        "colab": {
          "base_uri": "https://localhost:8080/"
        },
        "id": "p1b1fzXXvGf0",
        "outputId": "f3e09535-35ca-4fcf-ca95-923080d7e652"
      },
      "source": [
        "runs.isnull().sum()"
      ],
      "execution_count": null,
      "outputs": [
        {
          "output_type": "execute_result",
          "data": {
            "text/plain": [
              "match_id            0\n",
              "ball                0\n",
              "striker             0\n",
              "bowler              0\n",
              "runs_off_bat        0\n",
              "extras              0\n",
              "wides               0\n",
              "noballs             0\n",
              "legbyes             0\n",
              "player_dismissed    0\n",
              "dtype: int64"
            ]
          },
          "metadata": {
            "tags": []
          },
          "execution_count": 8
        }
      ]
    },
    {
      "cell_type": "markdown",
      "metadata": {
        "id": "gb6SQT3NimTI"
      },
      "source": [
        "**Creation of Batsmen dataset & calculation of their strike rate**"
      ]
    },
    {
      "cell_type": "code",
      "metadata": {
        "id": "hGEcAyZ4SAlR"
      },
      "source": [
        "# To analyse the strike rate of a bastman, we need runs scored by him and the number of balls he faced.\n",
        "# The strike rate for the batsman can be calculated from these two values.\n",
        "A = []\n",
        "B = []\n",
        "C = []\n",
        "for i in runs[\"striker\"].unique():\n",
        " a = runs[\"runs_off_bat\"][runs[\"striker\"] == i].sum() #sum of runs scored by the pla\n",
        " balls =  runs[\"match_id\"][runs['striker']== i].count() - runs['noballs'][runs[\"striker\"]== i].sum() - runs['wides'][runs[\"striker\"]== i].sum()\n",
        " out = runs[\"match_id\"][runs['player_dismissed']== i].count()\n",
        "# The strike rate for the batsman can be calculated from these two values.\n",
        " A.append(a)\n",
        " B.append(balls)\n",
        " C.append(out)\n"
      ],
      "execution_count": null,
      "outputs": []
    },
    {
      "cell_type": "code",
      "metadata": {
        "id": "su9ZjoM-Sk7c",
        "colab": {
          "base_uri": "https://localhost:8080/",
          "height": 343
        },
        "outputId": "edc772df-04f2-4051-a36f-53a0a7a1d514"
      },
      "source": [
        "Batsmen = pd.DataFrame({\"Player_names\": runs[\"striker\"].unique()})\n",
        "Batsmen[\"Runs\"] = A\n",
        "Batsmen[\"Balls_played\"] = B\n",
        "Batsmen[\"Out\"] = C\n",
        "Batsmen.head(10)"
      ],
      "execution_count": null,
      "outputs": [
        {
          "output_type": "execute_result",
          "data": {
            "text/html": [
              "<div>\n",
              "<style scoped>\n",
              "    .dataframe tbody tr th:only-of-type {\n",
              "        vertical-align: middle;\n",
              "    }\n",
              "\n",
              "    .dataframe tbody tr th {\n",
              "        vertical-align: top;\n",
              "    }\n",
              "\n",
              "    .dataframe thead th {\n",
              "        text-align: right;\n",
              "    }\n",
              "</style>\n",
              "<table border=\"1\" class=\"dataframe\">\n",
              "  <thead>\n",
              "    <tr style=\"text-align: right;\">\n",
              "      <th></th>\n",
              "      <th>Player_names</th>\n",
              "      <th>Runs</th>\n",
              "      <th>Balls_played</th>\n",
              "      <th>Out</th>\n",
              "    </tr>\n",
              "  </thead>\n",
              "  <tbody>\n",
              "    <tr>\n",
              "      <th>0</th>\n",
              "      <td>SC Ganguly</td>\n",
              "      <td>1349</td>\n",
              "      <td>1243.0</td>\n",
              "      <td>53</td>\n",
              "    </tr>\n",
              "    <tr>\n",
              "      <th>1</th>\n",
              "      <td>BB McCullum</td>\n",
              "      <td>2882</td>\n",
              "      <td>2118.0</td>\n",
              "      <td>104</td>\n",
              "    </tr>\n",
              "    <tr>\n",
              "      <th>2</th>\n",
              "      <td>RT Ponting</td>\n",
              "      <td>91</td>\n",
              "      <td>127.0</td>\n",
              "      <td>9</td>\n",
              "    </tr>\n",
              "    <tr>\n",
              "      <th>3</th>\n",
              "      <td>DJ Hussey</td>\n",
              "      <td>1322</td>\n",
              "      <td>1063.0</td>\n",
              "      <td>49</td>\n",
              "    </tr>\n",
              "    <tr>\n",
              "      <th>4</th>\n",
              "      <td>Mohammad Hafeez</td>\n",
              "      <td>64</td>\n",
              "      <td>83.0</td>\n",
              "      <td>7</td>\n",
              "    </tr>\n",
              "    <tr>\n",
              "      <th>5</th>\n",
              "      <td>R Dravid</td>\n",
              "      <td>2174</td>\n",
              "      <td>1865.0</td>\n",
              "      <td>77</td>\n",
              "    </tr>\n",
              "    <tr>\n",
              "      <th>6</th>\n",
              "      <td>W Jaffer</td>\n",
              "      <td>130</td>\n",
              "      <td>121.0</td>\n",
              "      <td>8</td>\n",
              "    </tr>\n",
              "    <tr>\n",
              "      <th>7</th>\n",
              "      <td>V Kohli</td>\n",
              "      <td>5888</td>\n",
              "      <td>4462.0</td>\n",
              "      <td>154</td>\n",
              "    </tr>\n",
              "    <tr>\n",
              "      <th>8</th>\n",
              "      <td>JH Kallis</td>\n",
              "      <td>2427</td>\n",
              "      <td>2195.0</td>\n",
              "      <td>85</td>\n",
              "    </tr>\n",
              "    <tr>\n",
              "      <th>9</th>\n",
              "      <td>CL White</td>\n",
              "      <td>971</td>\n",
              "      <td>757.0</td>\n",
              "      <td>36</td>\n",
              "    </tr>\n",
              "  </tbody>\n",
              "</table>\n",
              "</div>"
            ],
            "text/plain": [
              "      Player_names  Runs  Balls_played  Out\n",
              "0       SC Ganguly  1349        1243.0   53\n",
              "1      BB McCullum  2882        2118.0  104\n",
              "2       RT Ponting    91         127.0    9\n",
              "3        DJ Hussey  1322        1063.0   49\n",
              "4  Mohammad Hafeez    64          83.0    7\n",
              "5         R Dravid  2174        1865.0   77\n",
              "6         W Jaffer   130         121.0    8\n",
              "7          V Kohli  5888        4462.0  154\n",
              "8        JH Kallis  2427        2195.0   85\n",
              "9         CL White   971         757.0   36"
            ]
          },
          "metadata": {
            "tags": []
          },
          "execution_count": 10
        }
      ]
    },
    {
      "cell_type": "code",
      "metadata": {
        "colab": {
          "base_uri": "https://localhost:8080/",
          "height": 195
        },
        "id": "gAVYtPEcunVu",
        "outputId": "26d9d356-5c79-4171-8479-79d11019d1d3"
      },
      "source": [
        "Batsmen = Batsmen[Batsmen[\"Balls_played\"] > 300]\n",
        "Batsmen.head()"
      ],
      "execution_count": null,
      "outputs": [
        {
          "output_type": "execute_result",
          "data": {
            "text/html": [
              "<div>\n",
              "<style scoped>\n",
              "    .dataframe tbody tr th:only-of-type {\n",
              "        vertical-align: middle;\n",
              "    }\n",
              "\n",
              "    .dataframe tbody tr th {\n",
              "        vertical-align: top;\n",
              "    }\n",
              "\n",
              "    .dataframe thead th {\n",
              "        text-align: right;\n",
              "    }\n",
              "</style>\n",
              "<table border=\"1\" class=\"dataframe\">\n",
              "  <thead>\n",
              "    <tr style=\"text-align: right;\">\n",
              "      <th></th>\n",
              "      <th>Player_names</th>\n",
              "      <th>Runs</th>\n",
              "      <th>Balls_played</th>\n",
              "      <th>Out</th>\n",
              "    </tr>\n",
              "  </thead>\n",
              "  <tbody>\n",
              "    <tr>\n",
              "      <th>0</th>\n",
              "      <td>SC Ganguly</td>\n",
              "      <td>1349</td>\n",
              "      <td>1243.0</td>\n",
              "      <td>53</td>\n",
              "    </tr>\n",
              "    <tr>\n",
              "      <th>1</th>\n",
              "      <td>BB McCullum</td>\n",
              "      <td>2882</td>\n",
              "      <td>2118.0</td>\n",
              "      <td>104</td>\n",
              "    </tr>\n",
              "    <tr>\n",
              "      <th>3</th>\n",
              "      <td>DJ Hussey</td>\n",
              "      <td>1322</td>\n",
              "      <td>1063.0</td>\n",
              "      <td>49</td>\n",
              "    </tr>\n",
              "    <tr>\n",
              "      <th>5</th>\n",
              "      <td>R Dravid</td>\n",
              "      <td>2174</td>\n",
              "      <td>1865.0</td>\n",
              "      <td>77</td>\n",
              "    </tr>\n",
              "    <tr>\n",
              "      <th>7</th>\n",
              "      <td>V Kohli</td>\n",
              "      <td>5888</td>\n",
              "      <td>4462.0</td>\n",
              "      <td>154</td>\n",
              "    </tr>\n",
              "  </tbody>\n",
              "</table>\n",
              "</div>"
            ],
            "text/plain": [
              "  Player_names  Runs  Balls_played  Out\n",
              "0   SC Ganguly  1349        1243.0   53\n",
              "1  BB McCullum  2882        2118.0  104\n",
              "3    DJ Hussey  1322        1063.0   49\n",
              "5     R Dravid  2174        1865.0   77\n",
              "7      V Kohli  5888        4462.0  154"
            ]
          },
          "metadata": {
            "tags": []
          },
          "execution_count": 11
        }
      ]
    },
    {
      "cell_type": "code",
      "metadata": {
        "colab": {
          "base_uri": "https://localhost:8080/",
          "height": 491
        },
        "id": "uiz9QV-utw-2",
        "outputId": "f5ed6ebe-7b05-47d0-83f3-49f9a2a9fbe8"
      },
      "source": [
        "Batsmen.sample(15)"
      ],
      "execution_count": null,
      "outputs": [
        {
          "output_type": "execute_result",
          "data": {
            "text/html": [
              "<div>\n",
              "<style scoped>\n",
              "    .dataframe tbody tr th:only-of-type {\n",
              "        vertical-align: middle;\n",
              "    }\n",
              "\n",
              "    .dataframe tbody tr th {\n",
              "        vertical-align: top;\n",
              "    }\n",
              "\n",
              "    .dataframe thead th {\n",
              "        text-align: right;\n",
              "    }\n",
              "</style>\n",
              "<table border=\"1\" class=\"dataframe\">\n",
              "  <thead>\n",
              "    <tr style=\"text-align: right;\">\n",
              "      <th></th>\n",
              "      <th>Player_names</th>\n",
              "      <th>Runs</th>\n",
              "      <th>Balls_played</th>\n",
              "      <th>Out</th>\n",
              "    </tr>\n",
              "  </thead>\n",
              "  <tbody>\n",
              "    <tr>\n",
              "      <th>339</th>\n",
              "      <td>KK Nair</td>\n",
              "      <td>1480</td>\n",
              "      <td>1145.0</td>\n",
              "      <td>61</td>\n",
              "    </tr>\n",
              "    <tr>\n",
              "      <th>398</th>\n",
              "      <td>SN Khan</td>\n",
              "      <td>441</td>\n",
              "      <td>312.0</td>\n",
              "      <td>17</td>\n",
              "    </tr>\n",
              "    <tr>\n",
              "      <th>9</th>\n",
              "      <td>CL White</td>\n",
              "      <td>971</td>\n",
              "      <td>757.0</td>\n",
              "      <td>36</td>\n",
              "    </tr>\n",
              "    <tr>\n",
              "      <th>260</th>\n",
              "      <td>MA Agarwal</td>\n",
              "      <td>1698</td>\n",
              "      <td>1247.0</td>\n",
              "      <td>80</td>\n",
              "    </tr>\n",
              "    <tr>\n",
              "      <th>163</th>\n",
              "      <td>MC Henriques</td>\n",
              "      <td>969</td>\n",
              "      <td>751.0</td>\n",
              "      <td>34</td>\n",
              "    </tr>\n",
              "    <tr>\n",
              "      <th>201</th>\n",
              "      <td>R Ashwin</td>\n",
              "      <td>412</td>\n",
              "      <td>373.0</td>\n",
              "      <td>38</td>\n",
              "    </tr>\n",
              "    <tr>\n",
              "      <th>162</th>\n",
              "      <td>CH Gayle</td>\n",
              "      <td>4804</td>\n",
              "      <td>3149.0</td>\n",
              "      <td>117</td>\n",
              "    </tr>\n",
              "    <tr>\n",
              "      <th>85</th>\n",
              "      <td>AM Rahane</td>\n",
              "      <td>3933</td>\n",
              "      <td>3220.0</td>\n",
              "      <td>124</td>\n",
              "    </tr>\n",
              "    <tr>\n",
              "      <th>96</th>\n",
              "      <td>MK Pandey</td>\n",
              "      <td>3277</td>\n",
              "      <td>2667.0</td>\n",
              "      <td>111</td>\n",
              "    </tr>\n",
              "    <tr>\n",
              "      <th>31</th>\n",
              "      <td>SR Watson</td>\n",
              "      <td>3880</td>\n",
              "      <td>2780.0</td>\n",
              "      <td>126</td>\n",
              "    </tr>\n",
              "    <tr>\n",
              "      <th>63</th>\n",
              "      <td>LRPL Taylor</td>\n",
              "      <td>1017</td>\n",
              "      <td>814.0</td>\n",
              "      <td>40</td>\n",
              "    </tr>\n",
              "    <tr>\n",
              "      <th>334</th>\n",
              "      <td>AD Russell</td>\n",
              "      <td>1521</td>\n",
              "      <td>819.0</td>\n",
              "      <td>52</td>\n",
              "    </tr>\n",
              "    <tr>\n",
              "      <th>13</th>\n",
              "      <td>P Kumar</td>\n",
              "      <td>340</td>\n",
              "      <td>307.0</td>\n",
              "      <td>38</td>\n",
              "    </tr>\n",
              "    <tr>\n",
              "      <th>218</th>\n",
              "      <td>EJG Morgan</td>\n",
              "      <td>1273</td>\n",
              "      <td>1005.0</td>\n",
              "      <td>50</td>\n",
              "    </tr>\n",
              "    <tr>\n",
              "      <th>466</th>\n",
              "      <td>JM Bairstow</td>\n",
              "      <td>790</td>\n",
              "      <td>552.0</td>\n",
              "      <td>19</td>\n",
              "    </tr>\n",
              "  </tbody>\n",
              "</table>\n",
              "</div>"
            ],
            "text/plain": [
              "     Player_names  Runs  Balls_played  Out\n",
              "339       KK Nair  1480        1145.0   61\n",
              "398       SN Khan   441         312.0   17\n",
              "9        CL White   971         757.0   36\n",
              "260    MA Agarwal  1698        1247.0   80\n",
              "163  MC Henriques   969         751.0   34\n",
              "201      R Ashwin   412         373.0   38\n",
              "162      CH Gayle  4804        3149.0  117\n",
              "85      AM Rahane  3933        3220.0  124\n",
              "96      MK Pandey  3277        2667.0  111\n",
              "31      SR Watson  3880        2780.0  126\n",
              "63    LRPL Taylor  1017         814.0   40\n",
              "334    AD Russell  1521         819.0   52\n",
              "13        P Kumar   340         307.0   38\n",
              "218    EJG Morgan  1273        1005.0   50\n",
              "466   JM Bairstow   790         552.0   19"
            ]
          },
          "metadata": {
            "tags": []
          },
          "execution_count": 12
        }
      ]
    },
    {
      "cell_type": "code",
      "metadata": {
        "colab": {
          "base_uri": "https://localhost:8080/",
          "height": 343
        },
        "id": "AvJJnzCESsb8",
        "outputId": "7f8f81b1-3eb6-455c-a76c-fd078fbcb11c"
      },
      "source": [
        "Batsmen[\"Strike_Rate\"] = (Batsmen[\"Runs\"] * 100 / Batsmen[\"Balls_played\"]).round(2)\n",
        "Batsmen[\"Average\"] = (Batsmen[\"Runs\"] / Batsmen[\"Out\"]).round(2)\n",
        "Batsmen.head(10)"
      ],
      "execution_count": null,
      "outputs": [
        {
          "output_type": "execute_result",
          "data": {
            "text/html": [
              "<div>\n",
              "<style scoped>\n",
              "    .dataframe tbody tr th:only-of-type {\n",
              "        vertical-align: middle;\n",
              "    }\n",
              "\n",
              "    .dataframe tbody tr th {\n",
              "        vertical-align: top;\n",
              "    }\n",
              "\n",
              "    .dataframe thead th {\n",
              "        text-align: right;\n",
              "    }\n",
              "</style>\n",
              "<table border=\"1\" class=\"dataframe\">\n",
              "  <thead>\n",
              "    <tr style=\"text-align: right;\">\n",
              "      <th></th>\n",
              "      <th>Player_names</th>\n",
              "      <th>Runs</th>\n",
              "      <th>Balls_played</th>\n",
              "      <th>Out</th>\n",
              "      <th>Strike_Rate</th>\n",
              "      <th>Average</th>\n",
              "    </tr>\n",
              "  </thead>\n",
              "  <tbody>\n",
              "    <tr>\n",
              "      <th>0</th>\n",
              "      <td>SC Ganguly</td>\n",
              "      <td>1349</td>\n",
              "      <td>1243.0</td>\n",
              "      <td>53</td>\n",
              "      <td>108.53</td>\n",
              "      <td>25.45</td>\n",
              "    </tr>\n",
              "    <tr>\n",
              "      <th>1</th>\n",
              "      <td>BB McCullum</td>\n",
              "      <td>2882</td>\n",
              "      <td>2118.0</td>\n",
              "      <td>104</td>\n",
              "      <td>136.07</td>\n",
              "      <td>27.71</td>\n",
              "    </tr>\n",
              "    <tr>\n",
              "      <th>3</th>\n",
              "      <td>DJ Hussey</td>\n",
              "      <td>1322</td>\n",
              "      <td>1063.0</td>\n",
              "      <td>49</td>\n",
              "      <td>124.37</td>\n",
              "      <td>26.98</td>\n",
              "    </tr>\n",
              "    <tr>\n",
              "      <th>5</th>\n",
              "      <td>R Dravid</td>\n",
              "      <td>2174</td>\n",
              "      <td>1865.0</td>\n",
              "      <td>77</td>\n",
              "      <td>116.57</td>\n",
              "      <td>28.23</td>\n",
              "    </tr>\n",
              "    <tr>\n",
              "      <th>7</th>\n",
              "      <td>V Kohli</td>\n",
              "      <td>5888</td>\n",
              "      <td>4462.0</td>\n",
              "      <td>154</td>\n",
              "      <td>131.96</td>\n",
              "      <td>38.23</td>\n",
              "    </tr>\n",
              "    <tr>\n",
              "      <th>8</th>\n",
              "      <td>JH Kallis</td>\n",
              "      <td>2427</td>\n",
              "      <td>2195.0</td>\n",
              "      <td>85</td>\n",
              "      <td>110.57</td>\n",
              "      <td>28.55</td>\n",
              "    </tr>\n",
              "    <tr>\n",
              "      <th>9</th>\n",
              "      <td>CL White</td>\n",
              "      <td>971</td>\n",
              "      <td>757.0</td>\n",
              "      <td>36</td>\n",
              "      <td>128.27</td>\n",
              "      <td>26.97</td>\n",
              "    </tr>\n",
              "    <tr>\n",
              "      <th>10</th>\n",
              "      <td>MV Boucher</td>\n",
              "      <td>394</td>\n",
              "      <td>307.0</td>\n",
              "      <td>14</td>\n",
              "      <td>128.34</td>\n",
              "      <td>28.14</td>\n",
              "    </tr>\n",
              "    <tr>\n",
              "      <th>13</th>\n",
              "      <td>P Kumar</td>\n",
              "      <td>340</td>\n",
              "      <td>307.0</td>\n",
              "      <td>38</td>\n",
              "      <td>110.75</td>\n",
              "      <td>8.95</td>\n",
              "    </tr>\n",
              "    <tr>\n",
              "      <th>16</th>\n",
              "      <td>PA Patel</td>\n",
              "      <td>2848</td>\n",
              "      <td>2336.0</td>\n",
              "      <td>126</td>\n",
              "      <td>121.92</td>\n",
              "      <td>22.60</td>\n",
              "    </tr>\n",
              "  </tbody>\n",
              "</table>\n",
              "</div>"
            ],
            "text/plain": [
              "   Player_names  Runs  Balls_played  Out  Strike_Rate  Average\n",
              "0    SC Ganguly  1349        1243.0   53       108.53    25.45\n",
              "1   BB McCullum  2882        2118.0  104       136.07    27.71\n",
              "3     DJ Hussey  1322        1063.0   49       124.37    26.98\n",
              "5      R Dravid  2174        1865.0   77       116.57    28.23\n",
              "7       V Kohli  5888        4462.0  154       131.96    38.23\n",
              "8     JH Kallis  2427        2195.0   85       110.57    28.55\n",
              "9      CL White   971         757.0   36       128.27    26.97\n",
              "10   MV Boucher   394         307.0   14       128.34    28.14\n",
              "13      P Kumar   340         307.0   38       110.75     8.95\n",
              "16     PA Patel  2848        2336.0  126       121.92    22.60"
            ]
          },
          "metadata": {
            "tags": []
          },
          "execution_count": 13
        }
      ]
    },
    {
      "cell_type": "code",
      "metadata": {
        "colab": {
          "base_uri": "https://localhost:8080/",
          "height": 282
        },
        "id": "k55t0wGdSx8-",
        "outputId": "ae4aad35-66a5-4e09-e6dc-80008eb5a535"
      },
      "source": [
        "# Checking the distribution of batsmen by plotting a histogram\n",
        "# x axis is the stike rante y axis is the number of players\n",
        "Batsmen[\"Strike_Rate\"].hist(color=\"blue\")"
      ],
      "execution_count": null,
      "outputs": [
        {
          "output_type": "execute_result",
          "data": {
            "text/plain": [
              "<matplotlib.axes._subplots.AxesSubplot at 0x7f5aec79bd10>"
            ]
          },
          "metadata": {
            "tags": []
          },
          "execution_count": 14
        },
        {
          "output_type": "display_data",
          "data": {
            "image/png": "[encoded data removed]",
            "text/plain": [
              "<Figure size 432x288 with 1 Axes>"
            ]
          },
          "metadata": {
            "tags": [],
            "needs_background": "light"
          }
        }
      ]
    },
    {
      "cell_type": "code",
      "metadata": {
        "colab": {
          "base_uri": "https://localhost:8080/",
          "height": 282
        },
        "id": "5LXicJlEsQ2h",
        "outputId": "fcdf7004-b121-412d-c7dd-3eac85d2689f"
      },
      "source": [
        "Batsmen[\"Average\"].hist(color=\"blue\")"
      ],
      "execution_count": null,
      "outputs": [
        {
          "output_type": "execute_result",
          "data": {
            "text/plain": [
              "<matplotlib.axes._subplots.AxesSubplot at 0x7f5aecfdf490>"
            ]
          },
          "metadata": {
            "tags": []
          },
          "execution_count": 15
        },
        {
          "output_type": "display_data",
          "data": {
            "image/png": "[encoded data removed]",
            "text/plain": [
              "<Figure size 432x288 with 1 Axes>"
            ]
          },
          "metadata": {
            "tags": [],
            "needs_background": "light"
          }
        }
      ]
    },
    {
      "cell_type": "markdown",
      "metadata": {
        "id": "TtL2ahxSkPPg"
      },
      "source": [
        "**Applying Kmeans Algorithm to the batsmen dataset**"
      ]
    },
    {
      "cell_type": "markdown",
      "metadata": {
        "id": "J0GbAwVwk4N3"
      },
      "source": [
        "**Batsmen Clusters - STRIKE RATE**"
      ]
    },
    {
      "cell_type": "code",
      "metadata": {
        "colab": {
          "base_uri": "https://localhost:8080/",
          "height": 410
        },
        "id": "htsb5AkYzTTk",
        "outputId": "5b2b9856-de6d-43a4-8c42-685c443a9392"
      },
      "source": [
        "sns.set_style(\"whitegrid\")\n",
        "fig = plt.figure(figsize=(12,6))\n",
        "plt.scatter(Batsmen[\"Strike_Rate\"], Batsmen[\"Runs\"], color=\"blue\")\n",
        "plt.xlabel(\"Strike Rate of the Batsmen\", fontsize=14)\n",
        "plt.ylabel(\"Runs scored by the Batsmen\", fontsize=14)\n",
        "plt.title(\"IPL Batsmen\", fontsize=16)\n",
        "plt.show()"
      ],
      "execution_count": null,
      "outputs": [
        {
          "output_type": "display_data",
          "data": {
            "image/png": "[encoded data removed]",
            "text/plain": [
              "<Figure size 864x432 with 1 Axes>"
            ]
          },
          "metadata": {
            "tags": []
          }
        }
      ]
    },
    {
      "cell_type": "markdown",
      "metadata": {
        "id": "h29a8SXOknLP"
      },
      "source": [
        "\n",
        "The distribution of the Batsmen appears to be in largely five clusters:\n",
        "under 500 runs - highest density of dots\n",
        "500 - 1000 runs\n",
        "1000 - 2000 runs\n",
        "2000 - 3000 runs\n",
        "above 3000 runs"
      ]
    },
    {
      "cell_type": "code",
      "metadata": {
        "colab": {
          "base_uri": "https://localhost:8080/",
          "height": 410
        },
        "id": "4m26IWa5zY6E",
        "outputId": "b0f45a2a-7b52-4e3b-dfec-f223a83d4b95"
      },
      "source": [
        "kmeans = KMeans(n_clusters=5)\n",
        "kmeans.fit(Batsmen[[\"Strike_Rate\", \"Runs\"]])\n",
        "Batsmen[\"cluster\"] = kmeans.labels_\n",
        "\n",
        "fig = plt.figure(figsize=(12,6))\n",
        "\n",
        "colors = [\"blue\", \"sienna\", \"limegreen\", \"red\", \"indigo\"]\n",
        "\n",
        "for r in range(1,6):\n",
        "    clustered_Batsmen = Batsmen[Batsmen[\"cluster\"] == r]\n",
        "    plt.scatter(clustered_Batsmen[\"Strike_Rate\"], clustered_Batsmen[\"Runs\"], color=colors[r-1])\n",
        "    \n",
        "plt.title(\"IPL Batsmen\", fontsize=16)\n",
        "plt.xlabel(\"Strike Rate of the Batsmen\", fontsize=14)\n",
        "plt.ylabel(\"Runs scored by the Batsmen\", fontsize=14)\n",
        "    \n",
        "plt.show()"
      ],
      "execution_count": null,
      "outputs": [
        {
          "output_type": "display_data",
          "data": {
            "image/png": "[encoded data removed]",
            "text/plain": [
              "<Figure size 864x432 with 1 Axes>"
            ]
          },
          "metadata": {
            "tags": []
          }
        }
      ]
    },
    {
      "cell_type": "code",
      "metadata": {
        "colab": {
          "base_uri": "https://localhost:8080/",
          "height": 343
        },
        "id": "B6GNIkp-0Vc8",
        "outputId": "fdff6b71-d6c0-491c-c171-58c3514fc141"
      },
      "source": [
        "Batsmen.sample(10)"
      ],
      "execution_count": null,
      "outputs": [
        {
          "output_type": "execute_result",
          "data": {
            "text/html": [
              "<div>\n",
              "<style scoped>\n",
              "    .dataframe tbody tr th:only-of-type {\n",
              "        vertical-align: middle;\n",
              "    }\n",
              "\n",
              "    .dataframe tbody tr th {\n",
              "        vertical-align: top;\n",
              "    }\n",
              "\n",
              "    .dataframe thead th {\n",
              "        text-align: right;\n",
              "    }\n",
              "</style>\n",
              "<table border=\"1\" class=\"dataframe\">\n",
              "  <thead>\n",
              "    <tr style=\"text-align: right;\">\n",
              "      <th></th>\n",
              "      <th>Player_names</th>\n",
              "      <th>Runs</th>\n",
              "      <th>Balls_played</th>\n",
              "      <th>Out</th>\n",
              "      <th>Strike_Rate</th>\n",
              "      <th>Average</th>\n",
              "      <th>cluster</th>\n",
              "    </tr>\n",
              "  </thead>\n",
              "  <tbody>\n",
              "    <tr>\n",
              "      <th>398</th>\n",
              "      <td>SN Khan</td>\n",
              "      <td>441</td>\n",
              "      <td>312.0</td>\n",
              "      <td>17</td>\n",
              "      <td>141.35</td>\n",
              "      <td>25.94</td>\n",
              "      <td>3</td>\n",
              "    </tr>\n",
              "    <tr>\n",
              "      <th>394</th>\n",
              "      <td>HH Pandya</td>\n",
              "      <td>1358</td>\n",
              "      <td>830.0</td>\n",
              "      <td>46</td>\n",
              "      <td>163.61</td>\n",
              "      <td>29.52</td>\n",
              "      <td>0</td>\n",
              "    </tr>\n",
              "    <tr>\n",
              "      <th>158</th>\n",
              "      <td>JP Duminy</td>\n",
              "      <td>2029</td>\n",
              "      <td>1618.0</td>\n",
              "      <td>51</td>\n",
              "      <td>125.40</td>\n",
              "      <td>39.78</td>\n",
              "      <td>2</td>\n",
              "    </tr>\n",
              "    <tr>\n",
              "      <th>64</th>\n",
              "      <td>DPMD Jayawardene</td>\n",
              "      <td>1808</td>\n",
              "      <td>1436.0</td>\n",
              "      <td>64</td>\n",
              "      <td>125.91</td>\n",
              "      <td>28.25</td>\n",
              "      <td>2</td>\n",
              "    </tr>\n",
              "    <tr>\n",
              "      <th>8</th>\n",
              "      <td>JH Kallis</td>\n",
              "      <td>2427</td>\n",
              "      <td>2195.0</td>\n",
              "      <td>85</td>\n",
              "      <td>110.57</td>\n",
              "      <td>28.55</td>\n",
              "      <td>2</td>\n",
              "    </tr>\n",
              "    <tr>\n",
              "      <th>207</th>\n",
              "      <td>MS Bisla</td>\n",
              "      <td>798</td>\n",
              "      <td>680.0</td>\n",
              "      <td>38</td>\n",
              "      <td>117.35</td>\n",
              "      <td>21.00</td>\n",
              "      <td>3</td>\n",
              "    </tr>\n",
              "    <tr>\n",
              "      <th>276</th>\n",
              "      <td>Shakib Al Hasan</td>\n",
              "      <td>748</td>\n",
              "      <td>584.0</td>\n",
              "      <td>36</td>\n",
              "      <td>128.08</td>\n",
              "      <td>20.78</td>\n",
              "      <td>3</td>\n",
              "    </tr>\n",
              "    <tr>\n",
              "      <th>237</th>\n",
              "      <td>Mandeep Singh</td>\n",
              "      <td>1659</td>\n",
              "      <td>1328.0</td>\n",
              "      <td>75</td>\n",
              "      <td>124.92</td>\n",
              "      <td>22.12</td>\n",
              "      <td>0</td>\n",
              "    </tr>\n",
              "    <tr>\n",
              "      <th>3</th>\n",
              "      <td>DJ Hussey</td>\n",
              "      <td>1322</td>\n",
              "      <td>1063.0</td>\n",
              "      <td>49</td>\n",
              "      <td>124.37</td>\n",
              "      <td>26.98</td>\n",
              "      <td>0</td>\n",
              "    </tr>\n",
              "    <tr>\n",
              "      <th>178</th>\n",
              "      <td>TL Suman</td>\n",
              "      <td>676</td>\n",
              "      <td>573.0</td>\n",
              "      <td>32</td>\n",
              "      <td>117.98</td>\n",
              "      <td>21.12</td>\n",
              "      <td>3</td>\n",
              "    </tr>\n",
              "  </tbody>\n",
              "</table>\n",
              "</div>"
            ],
            "text/plain": [
              "         Player_names  Runs  Balls_played  Out  Strike_Rate  Average  cluster\n",
              "398           SN Khan   441         312.0   17       141.35    25.94        3\n",
              "394         HH Pandya  1358         830.0   46       163.61    29.52        0\n",
              "158         JP Duminy  2029        1618.0   51       125.40    39.78        2\n",
              "64   DPMD Jayawardene  1808        1436.0   64       125.91    28.25        2\n",
              "8           JH Kallis  2427        2195.0   85       110.57    28.55        2\n",
              "207          MS Bisla   798         680.0   38       117.35    21.00        3\n",
              "276   Shakib Al Hasan   748         584.0   36       128.08    20.78        3\n",
              "237     Mandeep Singh  1659        1328.0   75       124.92    22.12        0\n",
              "3           DJ Hussey  1322        1063.0   49       124.37    26.98        0\n",
              "178          TL Suman   676         573.0   32       117.98    21.12        3"
            ]
          },
          "metadata": {
            "tags": []
          },
          "execution_count": 18
        }
      ]
    },
    {
      "cell_type": "markdown",
      "metadata": {
        "id": "-bVuLQ6GwEwh"
      },
      "source": [
        "**Batsmen Clusters - AVERAGE**\n",
        "Average is a better metric to rank batsmen"
      ]
    },
    {
      "cell_type": "code",
      "metadata": {
        "colab": {
          "base_uri": "https://localhost:8080/",
          "height": 410
        },
        "id": "nSk-4GJj2t0j",
        "outputId": "d19de911-9d37-4a87-9a57-935dea2b7a80"
      },
      "source": [
        "sns.set_style(\"whitegrid\")\n",
        "fig = plt.figure(figsize=(12,6))\n",
        "plt.scatter(Batsmen[\"Average\"], Batsmen[\"Runs\"], color=\"blue\")\n",
        "plt.xlabel(\"Strike Rate of the Batsmen\", fontsize=14)\n",
        "plt.ylabel(\"Runs scored by the Batsmen\", fontsize=14)\n",
        "plt.title(\"IPL Batsmen\", fontsize=16)\n",
        "plt.show()"
      ],
      "execution_count": null,
      "outputs": [
        {
          "output_type": "display_data",
          "data": {
            "image/png": "[encoded data removed]",
            "text/plain": [
              "<Figure size 864x432 with 1 Axes>"
            ]
          },
          "metadata": {
            "tags": []
          }
        }
      ]
    },
    {
      "cell_type": "code",
      "metadata": {
        "colab": {
          "base_uri": "https://localhost:8080/",
          "height": 410
        },
        "id": "YDpPc53q2wjs",
        "outputId": "34650574-8c70-4954-9a2d-f720256412a1"
      },
      "source": [
        "kmeans = KMeans(n_clusters=5)\n",
        "kmeans.fit(Batsmen[[\"Average\", \"Runs\"]])\n",
        "Batsmen[\"cluster\"] = kmeans.labels_\n",
        "\n",
        "fig = plt.figure(figsize=(12,6))\n",
        "\n",
        "colors = [\"blue\", \"sienna\", \"limegreen\", \"red\", \"indigo\"]\n",
        "\n",
        "for r in range(1,6):\n",
        "    clustered_Batsmen = Batsmen[Batsmen[\"cluster\"] == r]\n",
        "    plt.scatter(clustered_Batsmen[\"Average\"], clustered_Batsmen[\"Runs\"], color=colors[r-1])\n",
        "    \n",
        "plt.title(\"IPL Batsmen\", fontsize=16)\n",
        "plt.xlabel(\"Average of the Batsmen\", fontsize=14)\n",
        "plt.ylabel(\"Runs scored by the Batsmen\", fontsize=14)\n",
        "    \n",
        "plt.show()"
      ],
      "execution_count": null,
      "outputs": [
        {
          "output_type": "display_data",
          "data": {
            "image/png": "[encoded data removed]",
            "text/plain": [
              "<Figure size 864x432 with 1 Axes>"
            ]
          },
          "metadata": {
            "tags": []
          }
        }
      ]
    },
    {
      "cell_type": "code",
      "metadata": {
        "colab": {
          "base_uri": "https://localhost:8080/",
          "height": 343
        },
        "id": "uNR14fqA27je",
        "outputId": "b5e7869a-8b3c-45b4-ec21-126dc511edca"
      },
      "source": [
        "Batsmen.sample(10)"
      ],
      "execution_count": null,
      "outputs": [
        {
          "output_type": "execute_result",
          "data": {
            "text/html": [
              "<div>\n",
              "<style scoped>\n",
              "    .dataframe tbody tr th:only-of-type {\n",
              "        vertical-align: middle;\n",
              "    }\n",
              "\n",
              "    .dataframe tbody tr th {\n",
              "        vertical-align: top;\n",
              "    }\n",
              "\n",
              "    .dataframe thead th {\n",
              "        text-align: right;\n",
              "    }\n",
              "</style>\n",
              "<table border=\"1\" class=\"dataframe\">\n",
              "  <thead>\n",
              "    <tr style=\"text-align: right;\">\n",
              "      <th></th>\n",
              "      <th>Player_names</th>\n",
              "      <th>Runs</th>\n",
              "      <th>Balls_played</th>\n",
              "      <th>Out</th>\n",
              "      <th>Strike_Rate</th>\n",
              "      <th>Average</th>\n",
              "      <th>cluster</th>\n",
              "    </tr>\n",
              "  </thead>\n",
              "  <tbody>\n",
              "    <tr>\n",
              "      <th>133</th>\n",
              "      <td>A Mishra</td>\n",
              "      <td>362</td>\n",
              "      <td>385.0</td>\n",
              "      <td>31</td>\n",
              "      <td>94.03</td>\n",
              "      <td>11.68</td>\n",
              "      <td>2</td>\n",
              "    </tr>\n",
              "    <tr>\n",
              "      <th>207</th>\n",
              "      <td>MS Bisla</td>\n",
              "      <td>798</td>\n",
              "      <td>680.0</td>\n",
              "      <td>38</td>\n",
              "      <td>117.35</td>\n",
              "      <td>21.00</td>\n",
              "      <td>2</td>\n",
              "    </tr>\n",
              "    <tr>\n",
              "      <th>67</th>\n",
              "      <td>PP Chawla</td>\n",
              "      <td>584</td>\n",
              "      <td>521.0</td>\n",
              "      <td>49</td>\n",
              "      <td>112.09</td>\n",
              "      <td>11.92</td>\n",
              "      <td>2</td>\n",
              "    </tr>\n",
              "    <tr>\n",
              "      <th>55</th>\n",
              "      <td>ST Jayasuriya</td>\n",
              "      <td>768</td>\n",
              "      <td>517.0</td>\n",
              "      <td>28</td>\n",
              "      <td>148.55</td>\n",
              "      <td>27.43</td>\n",
              "      <td>2</td>\n",
              "    </tr>\n",
              "    <tr>\n",
              "      <th>8</th>\n",
              "      <td>JH Kallis</td>\n",
              "      <td>2427</td>\n",
              "      <td>2195.0</td>\n",
              "      <td>85</td>\n",
              "      <td>110.57</td>\n",
              "      <td>28.55</td>\n",
              "      <td>3</td>\n",
              "    </tr>\n",
              "    <tr>\n",
              "      <th>305</th>\n",
              "      <td>GJ Maxwell</td>\n",
              "      <td>1506</td>\n",
              "      <td>967.0</td>\n",
              "      <td>68</td>\n",
              "      <td>155.74</td>\n",
              "      <td>22.15</td>\n",
              "      <td>0</td>\n",
              "    </tr>\n",
              "    <tr>\n",
              "      <th>167</th>\n",
              "      <td>PC Valthaty</td>\n",
              "      <td>505</td>\n",
              "      <td>413.0</td>\n",
              "      <td>22</td>\n",
              "      <td>122.28</td>\n",
              "      <td>22.95</td>\n",
              "      <td>2</td>\n",
              "    </tr>\n",
              "    <tr>\n",
              "      <th>396</th>\n",
              "      <td>SS Iyer</td>\n",
              "      <td>2204</td>\n",
              "      <td>1736.0</td>\n",
              "      <td>71</td>\n",
              "      <td>126.96</td>\n",
              "      <td>31.04</td>\n",
              "      <td>3</td>\n",
              "    </tr>\n",
              "    <tr>\n",
              "      <th>97</th>\n",
              "      <td>SA Asnodkar</td>\n",
              "      <td>423</td>\n",
              "      <td>333.0</td>\n",
              "      <td>20</td>\n",
              "      <td>127.03</td>\n",
              "      <td>21.15</td>\n",
              "      <td>2</td>\n",
              "    </tr>\n",
              "    <tr>\n",
              "      <th>178</th>\n",
              "      <td>TL Suman</td>\n",
              "      <td>676</td>\n",
              "      <td>573.0</td>\n",
              "      <td>32</td>\n",
              "      <td>117.98</td>\n",
              "      <td>21.12</td>\n",
              "      <td>2</td>\n",
              "    </tr>\n",
              "  </tbody>\n",
              "</table>\n",
              "</div>"
            ],
            "text/plain": [
              "      Player_names  Runs  Balls_played  Out  Strike_Rate  Average  cluster\n",
              "133       A Mishra   362         385.0   31        94.03    11.68        2\n",
              "207       MS Bisla   798         680.0   38       117.35    21.00        2\n",
              "67       PP Chawla   584         521.0   49       112.09    11.92        2\n",
              "55   ST Jayasuriya   768         517.0   28       148.55    27.43        2\n",
              "8        JH Kallis  2427        2195.0   85       110.57    28.55        3\n",
              "305     GJ Maxwell  1506         967.0   68       155.74    22.15        0\n",
              "167    PC Valthaty   505         413.0   22       122.28    22.95        2\n",
              "396        SS Iyer  2204        1736.0   71       126.96    31.04        3\n",
              "97     SA Asnodkar   423         333.0   20       127.03    21.15        2\n",
              "178       TL Suman   676         573.0   32       117.98    21.12        2"
            ]
          },
          "metadata": {
            "tags": []
          },
          "execution_count": 21
        }
      ]
    },
    {
      "cell_type": "markdown",
      "metadata": {
        "id": "ysqw-2JllPtf"
      },
      "source": [
        "**Creation of Bowlers dataset & calculation of their economy**"
      ]
    },
    {
      "cell_type": "code",
      "metadata": {
        "colab": {
          "base_uri": "https://localhost:8080/",
          "height": 195
        },
        "id": "YF7rteerhnoe",
        "outputId": "1ddcddb8-4856-46b9-9274-e4e99e4a29e7"
      },
      "source": [
        "# To analyse the performance of a bowler, we need runs given by him and the number of overs he bowled.\n",
        "# The economy rate of the bowler can be calculated from these two values.\n",
        "D = []\n",
        "E = []\n",
        "\n",
        "for j in runs[\"bowler\"].unique():\n",
        "    #runs given by him can be calculated by the sum of the runs and extras given by a bowler\n",
        "    d = runs[\"runs_off_bat\"][runs[\"bowler\"] == j].sum() + runs[\"wides\"][runs[\"bowler\"] == j].sum() + runs[\"noballs\"][runs[\"bowler\"] == j].sum() \n",
        "        #counting the number of balls bowled by a bowler\n",
        "    e = ((runs[\"ball\"][runs[\"bowler\"] == j].count() - runs[\"wides\"][runs[\"bowler\"] == j].sum() - runs[\"noballs\"][runs[\"bowler\"] == j].sum()) // 6)\n",
        "    \n",
        "    D.append(d)\n",
        "    E.append(e)\n",
        "    \n",
        "Bowlers = pd.DataFrame({\"Bowler_names\": runs[\"bowler\"].unique()})\n",
        "\n",
        "Bowlers[\"Runs\"] = D\n",
        "Bowlers[\"Overs\"] = E\n",
        "Bowlers.head()\n"
      ],
      "execution_count": null,
      "outputs": [
        {
          "output_type": "execute_result",
          "data": {
            "text/html": [
              "<div>\n",
              "<style scoped>\n",
              "    .dataframe tbody tr th:only-of-type {\n",
              "        vertical-align: middle;\n",
              "    }\n",
              "\n",
              "    .dataframe tbody tr th {\n",
              "        vertical-align: top;\n",
              "    }\n",
              "\n",
              "    .dataframe thead th {\n",
              "        text-align: right;\n",
              "    }\n",
              "</style>\n",
              "<table border=\"1\" class=\"dataframe\">\n",
              "  <thead>\n",
              "    <tr style=\"text-align: right;\">\n",
              "      <th></th>\n",
              "      <th>Bowler_names</th>\n",
              "      <th>Runs</th>\n",
              "      <th>Overs</th>\n",
              "    </tr>\n",
              "  </thead>\n",
              "  <tbody>\n",
              "    <tr>\n",
              "      <th>0</th>\n",
              "      <td>P Kumar</td>\n",
              "      <td>3251.0</td>\n",
              "      <td>415.0</td>\n",
              "    </tr>\n",
              "    <tr>\n",
              "      <th>1</th>\n",
              "      <td>Z Khan</td>\n",
              "      <td>2782.0</td>\n",
              "      <td>364.0</td>\n",
              "    </tr>\n",
              "    <tr>\n",
              "      <th>2</th>\n",
              "      <td>AA Noffke</td>\n",
              "      <td>40.0</td>\n",
              "      <td>3.0</td>\n",
              "    </tr>\n",
              "    <tr>\n",
              "      <th>3</th>\n",
              "      <td>JH Kallis</td>\n",
              "      <td>2293.0</td>\n",
              "      <td>288.0</td>\n",
              "    </tr>\n",
              "    <tr>\n",
              "      <th>4</th>\n",
              "      <td>SB Joshi</td>\n",
              "      <td>82.0</td>\n",
              "      <td>9.0</td>\n",
              "    </tr>\n",
              "  </tbody>\n",
              "</table>\n",
              "</div>"
            ],
            "text/plain": [
              "  Bowler_names    Runs  Overs\n",
              "0      P Kumar  3251.0  415.0\n",
              "1       Z Khan  2782.0  364.0\n",
              "2    AA Noffke    40.0    3.0\n",
              "3    JH Kallis  2293.0  288.0\n",
              "4     SB Joshi    82.0    9.0"
            ]
          },
          "metadata": {
            "tags": []
          },
          "execution_count": 22
        }
      ]
    },
    {
      "cell_type": "code",
      "metadata": {
        "colab": {
          "base_uri": "https://localhost:8080/",
          "height": 195
        },
        "id": "xqGgqldOANSd",
        "outputId": "f85c1f5b-e784-4ad3-9ff8-333c75649f1a"
      },
      "source": [
        "Bowlers = Bowlers[Bowlers[\"Overs\"] > 100]\n",
        "Bowlers.head()"
      ],
      "execution_count": null,
      "outputs": [
        {
          "output_type": "execute_result",
          "data": {
            "text/html": [
              "<div>\n",
              "<style scoped>\n",
              "    .dataframe tbody tr th:only-of-type {\n",
              "        vertical-align: middle;\n",
              "    }\n",
              "\n",
              "    .dataframe tbody tr th {\n",
              "        vertical-align: top;\n",
              "    }\n",
              "\n",
              "    .dataframe thead th {\n",
              "        text-align: right;\n",
              "    }\n",
              "</style>\n",
              "<table border=\"1\" class=\"dataframe\">\n",
              "  <thead>\n",
              "    <tr style=\"text-align: right;\">\n",
              "      <th></th>\n",
              "      <th>Bowler_names</th>\n",
              "      <th>Runs</th>\n",
              "      <th>Overs</th>\n",
              "    </tr>\n",
              "  </thead>\n",
              "  <tbody>\n",
              "    <tr>\n",
              "      <th>0</th>\n",
              "      <td>P Kumar</td>\n",
              "      <td>3251.0</td>\n",
              "      <td>415.0</td>\n",
              "    </tr>\n",
              "    <tr>\n",
              "      <th>1</th>\n",
              "      <td>Z Khan</td>\n",
              "      <td>2782.0</td>\n",
              "      <td>364.0</td>\n",
              "    </tr>\n",
              "    <tr>\n",
              "      <th>3</th>\n",
              "      <td>JH Kallis</td>\n",
              "      <td>2293.0</td>\n",
              "      <td>288.0</td>\n",
              "    </tr>\n",
              "    <tr>\n",
              "      <th>6</th>\n",
              "      <td>AB Dinda</td>\n",
              "      <td>2073.0</td>\n",
              "      <td>250.0</td>\n",
              "    </tr>\n",
              "    <tr>\n",
              "      <th>7</th>\n",
              "      <td>I Sharma</td>\n",
              "      <td>2604.0</td>\n",
              "      <td>316.0</td>\n",
              "    </tr>\n",
              "  </tbody>\n",
              "</table>\n",
              "</div>"
            ],
            "text/plain": [
              "  Bowler_names    Runs  Overs\n",
              "0      P Kumar  3251.0  415.0\n",
              "1       Z Khan  2782.0  364.0\n",
              "3    JH Kallis  2293.0  288.0\n",
              "6     AB Dinda  2073.0  250.0\n",
              "7     I Sharma  2604.0  316.0"
            ]
          },
          "metadata": {
            "tags": []
          },
          "execution_count": 23
        }
      ]
    },
    {
      "cell_type": "code",
      "metadata": {
        "colab": {
          "base_uri": "https://localhost:8080/",
          "height": 195
        },
        "id": "Xum40fQRlwVU",
        "outputId": "f5c78685-fa2b-4511-8031-af7af6bf5098"
      },
      "source": [
        "# Economy rate can be calculated by dividing the total runs conceded by the number of overs bowled.\n",
        "Bowlers[\"Econ_Rate\"] = (Bowlers[\"Runs\"] / Bowlers[\"Overs\"]).round(2)\n",
        "Bowlers.head()"
      ],
      "execution_count": null,
      "outputs": [
        {
          "output_type": "execute_result",
          "data": {
            "text/html": [
              "<div>\n",
              "<style scoped>\n",
              "    .dataframe tbody tr th:only-of-type {\n",
              "        vertical-align: middle;\n",
              "    }\n",
              "\n",
              "    .dataframe tbody tr th {\n",
              "        vertical-align: top;\n",
              "    }\n",
              "\n",
              "    .dataframe thead th {\n",
              "        text-align: right;\n",
              "    }\n",
              "</style>\n",
              "<table border=\"1\" class=\"dataframe\">\n",
              "  <thead>\n",
              "    <tr style=\"text-align: right;\">\n",
              "      <th></th>\n",
              "      <th>Bowler_names</th>\n",
              "      <th>Runs</th>\n",
              "      <th>Overs</th>\n",
              "      <th>Econ_Rate</th>\n",
              "    </tr>\n",
              "  </thead>\n",
              "  <tbody>\n",
              "    <tr>\n",
              "      <th>0</th>\n",
              "      <td>P Kumar</td>\n",
              "      <td>3251.0</td>\n",
              "      <td>415.0</td>\n",
              "      <td>7.83</td>\n",
              "    </tr>\n",
              "    <tr>\n",
              "      <th>1</th>\n",
              "      <td>Z Khan</td>\n",
              "      <td>2782.0</td>\n",
              "      <td>364.0</td>\n",
              "      <td>7.64</td>\n",
              "    </tr>\n",
              "    <tr>\n",
              "      <th>3</th>\n",
              "      <td>JH Kallis</td>\n",
              "      <td>2293.0</td>\n",
              "      <td>288.0</td>\n",
              "      <td>7.96</td>\n",
              "    </tr>\n",
              "    <tr>\n",
              "      <th>6</th>\n",
              "      <td>AB Dinda</td>\n",
              "      <td>2073.0</td>\n",
              "      <td>250.0</td>\n",
              "      <td>8.29</td>\n",
              "    </tr>\n",
              "    <tr>\n",
              "      <th>7</th>\n",
              "      <td>I Sharma</td>\n",
              "      <td>2604.0</td>\n",
              "      <td>316.0</td>\n",
              "      <td>8.24</td>\n",
              "    </tr>\n",
              "  </tbody>\n",
              "</table>\n",
              "</div>"
            ],
            "text/plain": [
              "  Bowler_names    Runs  Overs  Econ_Rate\n",
              "0      P Kumar  3251.0  415.0       7.83\n",
              "1       Z Khan  2782.0  364.0       7.64\n",
              "3    JH Kallis  2293.0  288.0       7.96\n",
              "6     AB Dinda  2073.0  250.0       8.29\n",
              "7     I Sharma  2604.0  316.0       8.24"
            ]
          },
          "metadata": {
            "tags": []
          },
          "execution_count": 24
        }
      ]
    },
    {
      "cell_type": "code",
      "metadata": {
        "colab": {
          "base_uri": "https://localhost:8080/",
          "height": 282
        },
        "id": "ID2MfOHF827b",
        "outputId": "7c3b42c1-afa0-40b9-adff-10b524008338"
      },
      "source": [
        "Batsmen[\"Average\"].hist(color=\"red\")"
      ],
      "execution_count": null,
      "outputs": [
        {
          "output_type": "execute_result",
          "data": {
            "text/plain": [
              "<matplotlib.axes._subplots.AxesSubplot at 0x7f5ae37ca2d0>"
            ]
          },
          "metadata": {
            "tags": []
          },
          "execution_count": 25
        },
        {
          "output_type": "display_data",
          "data": {
            "image/png": "[encoded data removed]",
            "text/plain": [
              "<Figure size 432x288 with 1 Axes>"
            ]
          },
          "metadata": {
            "tags": []
          }
        }
      ]
    },
    {
      "cell_type": "markdown",
      "metadata": {
        "id": "36R40SglnXHo"
      },
      "source": [
        "**Applying K-means algorithm to bowlers dataser**"
      ]
    },
    {
      "cell_type": "code",
      "metadata": {
        "colab": {
          "base_uri": "https://localhost:8080/",
          "height": 410
        },
        "id": "zGGYr-cXnUcX",
        "outputId": "dfb3834f-e533-45f5-9617-760b6acb9cf8"
      },
      "source": [
        "sns.set_style(\"whitegrid\")\n",
        "fig = plt.figure(figsize=(12,6))\n",
        "plt.scatter(Bowlers[\"Econ_Rate\"], Bowlers[\"Overs\"], color=\"red\")\n",
        "plt.xlabel(\"Economy Rate of the Bowler\", fontsize=14)\n",
        "plt.ylabel(\"Number of Overs bowled by the Bowler\", fontsize=14)\n",
        "plt.title(\"IPL Bowlers\", fontsize=16)\n",
        "plt.show()"
      ],
      "execution_count": null,
      "outputs": [
        {
          "output_type": "display_data",
          "data": {
            "image/png": "[encoded data removed]",
            "text/plain": [
              "<Figure size 864x432 with 1 Axes>"
            ]
          },
          "metadata": {
            "tags": []
          }
        }
      ]
    },
    {
      "cell_type": "code",
      "metadata": {
        "colab": {
          "base_uri": "https://localhost:8080/",
          "height": 410
        },
        "id": "BEbTnGUKnnVy",
        "outputId": "b8d3fce0-91a1-4173-f79d-a8e602097d9e"
      },
      "source": [
        "kmeans = KMeans(n_clusters=5)\n",
        "kmeans.fit(Bowlers[[\"Econ_Rate\", \"Overs\"]])\n",
        "Bowlers[\"cluster\"] = kmeans.labels_\n",
        "\n",
        "fig = plt.figure(figsize=(12,6))\n",
        "\n",
        "colors = [\"blue\", \"green\", \"black\", \"red\"]\n",
        "\n",
        "for r in range(1,5):\n",
        "    clustered_Bowlers = Bowlers[Bowlers[\"cluster\"] == r]\n",
        "    plt.scatter(clustered_Bowlers[\"Econ_Rate\"], clustered_Bowlers[\"Overs\"], color=colors[r-1])\n",
        "    \n",
        "plt.title(\"IPL Bowlers\", fontsize=16)\n",
        "plt.xlabel(\"Economy Rate of the Bowler\", fontsize=14)\n",
        "plt.ylabel(\"Number of Overs bowled by the Bowler\", fontsize=14)\n",
        "    \n",
        "plt.show()"
      ],
      "execution_count": null,
      "outputs": [
        {
          "output_type": "display_data",
          "data": {
            "image/png": "[encoded data removed]",
            "text/plain": [
              "<Figure size 864x432 with 1 Axes>"
            ]
          },
          "metadata": {
            "tags": []
          }
        }
      ]
    },
    {
      "cell_type": "markdown",
      "metadata": {
        "id": "mITP0kzAnysO"
      },
      "source": [
        "**Bowlers Clusters**"
      ]
    },
    {
      "cell_type": "code",
      "metadata": {
        "colab": {
          "base_uri": "https://localhost:8080/",
          "height": 343
        },
        "id": "wZRWG9WbnvGx",
        "outputId": "706e4dac-136c-4781-ef4e-0339b7322085"
      },
      "source": [
        "Bowlers.sample(10)"
      ],
      "execution_count": null,
      "outputs": [
        {
          "output_type": "execute_result",
          "data": {
            "text/html": [
              "<div>\n",
              "<style scoped>\n",
              "    .dataframe tbody tr th:only-of-type {\n",
              "        vertical-align: middle;\n",
              "    }\n",
              "\n",
              "    .dataframe tbody tr th {\n",
              "        vertical-align: top;\n",
              "    }\n",
              "\n",
              "    .dataframe thead th {\n",
              "        text-align: right;\n",
              "    }\n",
              "</style>\n",
              "<table border=\"1\" class=\"dataframe\">\n",
              "  <thead>\n",
              "    <tr style=\"text-align: right;\">\n",
              "      <th></th>\n",
              "      <th>Bowler_names</th>\n",
              "      <th>Runs</th>\n",
              "      <th>Overs</th>\n",
              "      <th>Econ_Rate</th>\n",
              "      <th>cluster</th>\n",
              "    </tr>\n",
              "  </thead>\n",
              "  <tbody>\n",
              "    <tr>\n",
              "      <th>126</th>\n",
              "      <td>SB Jakati</td>\n",
              "      <td>1451.0</td>\n",
              "      <td>178.0</td>\n",
              "      <td>8.15</td>\n",
              "      <td>2</td>\n",
              "    </tr>\n",
              "    <tr>\n",
              "      <th>16</th>\n",
              "      <td>PP Chawla</td>\n",
              "      <td>4263.0</td>\n",
              "      <td>536.0</td>\n",
              "      <td>7.95</td>\n",
              "      <td>4</td>\n",
              "    </tr>\n",
              "    <tr>\n",
              "      <th>7</th>\n",
              "      <td>I Sharma</td>\n",
              "      <td>2604.0</td>\n",
              "      <td>316.0</td>\n",
              "      <td>8.24</td>\n",
              "      <td>3</td>\n",
              "    </tr>\n",
              "    <tr>\n",
              "      <th>293</th>\n",
              "      <td>S Gopal</td>\n",
              "      <td>1164.0</td>\n",
              "      <td>148.0</td>\n",
              "      <td>7.86</td>\n",
              "      <td>0</td>\n",
              "    </tr>\n",
              "    <tr>\n",
              "      <th>89</th>\n",
              "      <td>RA Jadeja</td>\n",
              "      <td>3470.0</td>\n",
              "      <td>449.0</td>\n",
              "      <td>7.73</td>\n",
              "      <td>1</td>\n",
              "    </tr>\n",
              "    <tr>\n",
              "      <th>231</th>\n",
              "      <td>SP Narine</td>\n",
              "      <td>3158.0</td>\n",
              "      <td>461.0</td>\n",
              "      <td>6.85</td>\n",
              "      <td>1</td>\n",
              "    </tr>\n",
              "    <tr>\n",
              "      <th>336</th>\n",
              "      <td>BA Stokes</td>\n",
              "      <td>962.0</td>\n",
              "      <td>112.0</td>\n",
              "      <td>8.59</td>\n",
              "      <td>0</td>\n",
              "    </tr>\n",
              "    <tr>\n",
              "      <th>55</th>\n",
              "      <td>DJ Bravo</td>\n",
              "      <td>3798.0</td>\n",
              "      <td>451.0</td>\n",
              "      <td>8.42</td>\n",
              "      <td>1</td>\n",
              "    </tr>\n",
              "    <tr>\n",
              "      <th>363</th>\n",
              "      <td>JC Archer</td>\n",
              "      <td>981.0</td>\n",
              "      <td>137.0</td>\n",
              "      <td>7.16</td>\n",
              "      <td>0</td>\n",
              "    </tr>\n",
              "    <tr>\n",
              "      <th>299</th>\n",
              "      <td>MJ McClenaghan</td>\n",
              "      <td>1803.0</td>\n",
              "      <td>211.0</td>\n",
              "      <td>8.55</td>\n",
              "      <td>2</td>\n",
              "    </tr>\n",
              "  </tbody>\n",
              "</table>\n",
              "</div>"
            ],
            "text/plain": [
              "       Bowler_names    Runs  Overs  Econ_Rate  cluster\n",
              "126       SB Jakati  1451.0  178.0       8.15        2\n",
              "16        PP Chawla  4263.0  536.0       7.95        4\n",
              "7          I Sharma  2604.0  316.0       8.24        3\n",
              "293         S Gopal  1164.0  148.0       7.86        0\n",
              "89        RA Jadeja  3470.0  449.0       7.73        1\n",
              "231       SP Narine  3158.0  461.0       6.85        1\n",
              "336       BA Stokes   962.0  112.0       8.59        0\n",
              "55         DJ Bravo  3798.0  451.0       8.42        1\n",
              "363       JC Archer   981.0  137.0       7.16        0\n",
              "299  MJ McClenaghan  1803.0  211.0       8.55        2"
            ]
          },
          "metadata": {
            "tags": []
          },
          "execution_count": 28
        }
      ]
    },
    {
      "cell_type": "code",
      "metadata": {
        "id": "ape3sgwvHHep"
      },
      "source": [
        ""
      ],
      "execution_count": null,
      "outputs": []
    }
  ]
}