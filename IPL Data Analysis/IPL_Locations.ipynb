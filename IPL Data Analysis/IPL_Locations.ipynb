{
 "cells": [
  {
   "cell_type": "code",
   "execution_count": 1,
   "id": "e6fe82e1",
   "metadata": {},
   "outputs": [],
   "source": [
    "import pandas as pd\n",
    "import io\n",
    "import numpy as np\n",
    "import matplotlib.pyplot as plt\n",
    "import seaborn as sns\n",
    "from io import StringIO"
   ]
  },
  {
   "cell_type": "code",
   "execution_count": 2,
   "id": "70c54526",
   "metadata": {},
   "outputs": [],
   "source": [
    "matches = pd.read_csv(r\"C:\\Users\\Admin\\Desktop\\Fall21-22\\BDA\\Project\\matches.csv\")"
   ]
  },
  {
   "cell_type": "code",
   "execution_count": 3,
   "id": "b1c4cc63",
   "metadata": {},
   "outputs": [
    {
     "data": {
      "text/html": [
       "<div>\n",
       "<style scoped>\n",
       "    .dataframe tbody tr th:only-of-type {\n",
       "        vertical-align: middle;\n",
       "    }\n",
       "\n",
       "    .dataframe tbody tr th {\n",
       "        vertical-align: top;\n",
       "    }\n",
       "\n",
       "    .dataframe thead th {\n",
       "        text-align: right;\n",
       "    }\n",
       "</style>\n",
       "<table border=\"1\" class=\"dataframe\">\n",
       "  <thead>\n",
       "    <tr style=\"text-align: right;\">\n",
       "      <th></th>\n",
       "      <th>city</th>\n",
       "      <th>date</th>\n",
       "      <th>venue</th>\n",
       "      <th>team1</th>\n",
       "      <th>team2</th>\n",
       "      <th>winner</th>\n",
       "    </tr>\n",
       "  </thead>\n",
       "  <tbody>\n",
       "    <tr>\n",
       "      <th>0</th>\n",
       "      <td>Cuttack</td>\n",
       "      <td>19-03-10</td>\n",
       "      <td>Barabati Stadium</td>\n",
       "      <td>Deccan Chargers</td>\n",
       "      <td>Kings XI Punjab</td>\n",
       "      <td>Deccan Chargers</td>\n",
       "    </tr>\n",
       "    <tr>\n",
       "      <th>1</th>\n",
       "      <td>Cuttack</td>\n",
       "      <td>21-03-10</td>\n",
       "      <td>Barabati Stadium</td>\n",
       "      <td>Deccan Chargers</td>\n",
       "      <td>Delhi Daredevils</td>\n",
       "      <td>Deccan Chargers</td>\n",
       "    </tr>\n",
       "    <tr>\n",
       "      <th>2</th>\n",
       "      <td>Cuttack</td>\n",
       "      <td>22-04-12</td>\n",
       "      <td>Barabati Stadium</td>\n",
       "      <td>Deccan Chargers</td>\n",
       "      <td>Kolkata Knight Riders</td>\n",
       "      <td>Kolkata Knight Riders</td>\n",
       "    </tr>\n",
       "    <tr>\n",
       "      <th>3</th>\n",
       "      <td>Cuttack</td>\n",
       "      <td>01-05-12</td>\n",
       "      <td>Barabati Stadium</td>\n",
       "      <td>Deccan Chargers</td>\n",
       "      <td>Pune Warriors</td>\n",
       "      <td>Deccan Chargers</td>\n",
       "    </tr>\n",
       "    <tr>\n",
       "      <th>4</th>\n",
       "      <td>Cuttack</td>\n",
       "      <td>07-05-14</td>\n",
       "      <td>Barabati Stadium</td>\n",
       "      <td>Kings XI Punjab</td>\n",
       "      <td>Chennai Super Kings</td>\n",
       "      <td>Kings XI Punjab</td>\n",
       "    </tr>\n",
       "  </tbody>\n",
       "</table>\n",
       "</div>"
      ],
      "text/plain": [
       "      city      date             venue            team1  \\\n",
       "0  Cuttack  19-03-10  Barabati Stadium  Deccan Chargers   \n",
       "1  Cuttack  21-03-10  Barabati Stadium  Deccan Chargers   \n",
       "2  Cuttack  22-04-12  Barabati Stadium  Deccan Chargers   \n",
       "3  Cuttack  01-05-12  Barabati Stadium  Deccan Chargers   \n",
       "4  Cuttack  07-05-14  Barabati Stadium  Kings XI Punjab   \n",
       "\n",
       "                   team2                 winner  \n",
       "0        Kings XI Punjab        Deccan Chargers  \n",
       "1       Delhi Daredevils        Deccan Chargers  \n",
       "2  Kolkata Knight Riders  Kolkata Knight Riders  \n",
       "3          Pune Warriors        Deccan Chargers  \n",
       "4    Chennai Super Kings        Kings XI Punjab  "
      ]
     },
     "execution_count": 3,
     "metadata": {},
     "output_type": "execute_result"
    }
   ],
   "source": [
    "matches=matches[[\"city\",\"date\",\"venue\",\"team1\",\"team2\",\"winner\"]]\n",
    "matches.head()"
   ]
  },
  {
   "cell_type": "code",
   "execution_count": 4,
   "id": "3f47a367",
   "metadata": {},
   "outputs": [
    {
     "data": {
      "text/html": [
       "<div>\n",
       "<style scoped>\n",
       "    .dataframe tbody tr th:only-of-type {\n",
       "        vertical-align: middle;\n",
       "    }\n",
       "\n",
       "    .dataframe tbody tr th {\n",
       "        vertical-align: top;\n",
       "    }\n",
       "\n",
       "    .dataframe thead th {\n",
       "        text-align: right;\n",
       "    }\n",
       "</style>\n",
       "<table border=\"1\" class=\"dataframe\">\n",
       "  <thead>\n",
       "    <tr style=\"text-align: right;\">\n",
       "      <th></th>\n",
       "      <th>city</th>\n",
       "      <th>date</th>\n",
       "      <th>venue</th>\n",
       "      <th>team1</th>\n",
       "      <th>team2</th>\n",
       "      <th>winner</th>\n",
       "    </tr>\n",
       "  </thead>\n",
       "  <tbody>\n",
       "    <tr>\n",
       "      <th>0</th>\n",
       "      <td>Cuttack</td>\n",
       "      <td>19-03-10</td>\n",
       "      <td>Barabati Stadium</td>\n",
       "      <td>Deccan Chargers</td>\n",
       "      <td>Kings XI Punjab</td>\n",
       "      <td>Deccan Chargers</td>\n",
       "    </tr>\n",
       "    <tr>\n",
       "      <th>1</th>\n",
       "      <td>Cuttack</td>\n",
       "      <td>21-03-10</td>\n",
       "      <td>Barabati Stadium</td>\n",
       "      <td>Deccan Chargers</td>\n",
       "      <td>Delhi Daredevils</td>\n",
       "      <td>Deccan Chargers</td>\n",
       "    </tr>\n",
       "    <tr>\n",
       "      <th>2</th>\n",
       "      <td>Cuttack</td>\n",
       "      <td>22-04-12</td>\n",
       "      <td>Barabati Stadium</td>\n",
       "      <td>Deccan Chargers</td>\n",
       "      <td>Kolkata Knight Riders</td>\n",
       "      <td>Kolkata Knight Riders</td>\n",
       "    </tr>\n",
       "    <tr>\n",
       "      <th>3</th>\n",
       "      <td>Cuttack</td>\n",
       "      <td>01-05-12</td>\n",
       "      <td>Barabati Stadium</td>\n",
       "      <td>Deccan Chargers</td>\n",
       "      <td>Pune Warriors</td>\n",
       "      <td>Deccan Chargers</td>\n",
       "    </tr>\n",
       "    <tr>\n",
       "      <th>4</th>\n",
       "      <td>Cuttack</td>\n",
       "      <td>07-05-14</td>\n",
       "      <td>Barabati Stadium</td>\n",
       "      <td>Kings XI Punjab</td>\n",
       "      <td>Chennai Super Kings</td>\n",
       "      <td>Kings XI Punjab</td>\n",
       "    </tr>\n",
       "    <tr>\n",
       "      <th>...</th>\n",
       "      <td>...</td>\n",
       "      <td>...</td>\n",
       "      <td>...</td>\n",
       "      <td>...</td>\n",
       "      <td>...</td>\n",
       "      <td>...</td>\n",
       "    </tr>\n",
       "    <tr>\n",
       "      <th>811</th>\n",
       "      <td>Mumbai</td>\n",
       "      <td>10-04-19</td>\n",
       "      <td>Wankhede Stadium</td>\n",
       "      <td>Mumbai Indians</td>\n",
       "      <td>Kings XI Punjab</td>\n",
       "      <td>Mumbai Indians</td>\n",
       "    </tr>\n",
       "    <tr>\n",
       "      <th>812</th>\n",
       "      <td>Mumbai</td>\n",
       "      <td>13-04-19</td>\n",
       "      <td>Wankhede Stadium</td>\n",
       "      <td>Mumbai Indians</td>\n",
       "      <td>Rajasthan Royals</td>\n",
       "      <td>Rajasthan Royals</td>\n",
       "    </tr>\n",
       "    <tr>\n",
       "      <th>813</th>\n",
       "      <td>Mumbai</td>\n",
       "      <td>15-04-19</td>\n",
       "      <td>Wankhede Stadium</td>\n",
       "      <td>Mumbai Indians</td>\n",
       "      <td>Royal Challengers Bangalore</td>\n",
       "      <td>Mumbai Indians</td>\n",
       "    </tr>\n",
       "    <tr>\n",
       "      <th>814</th>\n",
       "      <td>Mumbai</td>\n",
       "      <td>02-05-19</td>\n",
       "      <td>Wankhede Stadium</td>\n",
       "      <td>Mumbai Indians</td>\n",
       "      <td>Sunrisers Hyderabad</td>\n",
       "      <td>Mumbai Indians</td>\n",
       "    </tr>\n",
       "    <tr>\n",
       "      <th>815</th>\n",
       "      <td>Mumbai</td>\n",
       "      <td>05-05-19</td>\n",
       "      <td>Wankhede Stadium</td>\n",
       "      <td>Mumbai Indians</td>\n",
       "      <td>Kolkata Knight Riders</td>\n",
       "      <td>Mumbai Indians</td>\n",
       "    </tr>\n",
       "  </tbody>\n",
       "</table>\n",
       "<p>816 rows × 6 columns</p>\n",
       "</div>"
      ],
      "text/plain": [
       "        city      date             venue            team1  \\\n",
       "0    Cuttack  19-03-10  Barabati Stadium  Deccan Chargers   \n",
       "1    Cuttack  21-03-10  Barabati Stadium  Deccan Chargers   \n",
       "2    Cuttack  22-04-12  Barabati Stadium  Deccan Chargers   \n",
       "3    Cuttack  01-05-12  Barabati Stadium  Deccan Chargers   \n",
       "4    Cuttack  07-05-14  Barabati Stadium  Kings XI Punjab   \n",
       "..       ...       ...               ...              ...   \n",
       "811   Mumbai  10-04-19  Wankhede Stadium   Mumbai Indians   \n",
       "812   Mumbai  13-04-19  Wankhede Stadium   Mumbai Indians   \n",
       "813   Mumbai  15-04-19  Wankhede Stadium   Mumbai Indians   \n",
       "814   Mumbai  02-05-19  Wankhede Stadium   Mumbai Indians   \n",
       "815   Mumbai  05-05-19  Wankhede Stadium   Mumbai Indians   \n",
       "\n",
       "                           team2                 winner  \n",
       "0                Kings XI Punjab        Deccan Chargers  \n",
       "1               Delhi Daredevils        Deccan Chargers  \n",
       "2          Kolkata Knight Riders  Kolkata Knight Riders  \n",
       "3                  Pune Warriors        Deccan Chargers  \n",
       "4            Chennai Super Kings        Kings XI Punjab  \n",
       "..                           ...                    ...  \n",
       "811              Kings XI Punjab         Mumbai Indians  \n",
       "812             Rajasthan Royals       Rajasthan Royals  \n",
       "813  Royal Challengers Bangalore         Mumbai Indians  \n",
       "814          Sunrisers Hyderabad         Mumbai Indians  \n",
       "815        Kolkata Knight Riders         Mumbai Indians  \n",
       "\n",
       "[816 rows x 6 columns]"
      ]
     },
     "execution_count": 4,
     "metadata": {},
     "output_type": "execute_result"
    }
   ],
   "source": [
    "matches.dropna()"
   ]
  },
  {
   "cell_type": "code",
   "execution_count": 5,
   "id": "2c9e203f",
   "metadata": {},
   "outputs": [],
   "source": [
    "venue = matches[\"venue\"]"
   ]
  },
  {
   "cell_type": "code",
   "execution_count": 6,
   "id": "588c6e85",
   "metadata": {},
   "outputs": [
    {
     "data": {
      "text/plain": [
       "city                 Delhi\n",
       "date              21-05-11\n",
       "venue     Feroz Shah Kotla\n",
       "team1     Delhi Daredevils\n",
       "team2        Pune Warriors\n",
       "winner       Not Available\n",
       "Name: 183, dtype: object"
      ]
     },
     "execution_count": 6,
     "metadata": {},
     "output_type": "execute_result"
    }
   ],
   "source": [
    "matches.iloc[183]"
   ]
  },
  {
   "cell_type": "code",
   "execution_count": 7,
   "id": "d3b8e9d3",
   "metadata": {},
   "outputs": [
    {
     "data": {
      "text/plain": [
       "816"
      ]
     },
     "execution_count": 7,
     "metadata": {},
     "output_type": "execute_result"
    }
   ],
   "source": [
    "len(venue)"
   ]
  },
  {
   "cell_type": "code",
   "execution_count": 45,
   "id": "4f0e5cd8",
   "metadata": {},
   "outputs": [],
   "source": [
    "venue[183] = \"Feroz Shah Kotla\""
   ]
  },
  {
   "cell_type": "code",
   "execution_count": 60,
   "id": "24094c85",
   "metadata": {},
   "outputs": [],
   "source": [
    "venue[360] = \"M.Chinnaswamy Stadium\""
   ]
  },
  {
   "cell_type": "code",
   "execution_count": 12,
   "id": "f90b3e8e",
   "metadata": {},
   "outputs": [
    {
     "name": "stdout",
     "output_type": "stream",
     "text": [
      "Collecting geopy\n",
      "  Downloading geopy-2.2.0-py3-none-any.whl (118 kB)\n",
      "Collecting geographiclib<2,>=1.49\n",
      "  Downloading geographiclib-1.52-py3-none-any.whl (38 kB)\n",
      "Installing collected packages: geographiclib, geopy\n",
      "Successfully installed geographiclib-1.52 geopy-2.2.0\n",
      "Note: you may need to restart the kernel to use updated packages.\n"
     ]
    }
   ],
   "source": [
    "pip install geopy"
   ]
  },
  {
   "cell_type": "code",
   "execution_count": 8,
   "id": "16a94b61",
   "metadata": {},
   "outputs": [],
   "source": [
    "from geopy.geocoders import Nominatim"
   ]
  },
  {
   "cell_type": "code",
   "execution_count": 9,
   "id": "c81690a5",
   "metadata": {},
   "outputs": [],
   "source": [
    "# calling the Nominatim tool\n",
    "addr=[]\n",
    "location = []\n",
    "loc = Nominatim(user_agent=\"GetLoc\")\n",
    "# entering the location name\n",
    "for i in range(0,812):\n",
    "  getLoc = loc.geocode(venue[i]) \n",
    "  addr.append(getLoc.address)"
   ]
  },
  {
   "cell_type": "code",
   "execution_count": 10,
   "id": "a4903ed8",
   "metadata": {},
   "outputs": [
    {
     "data": {
      "text/plain": [
       "812"
      ]
     },
     "execution_count": 10,
     "metadata": {},
     "output_type": "execute_result"
    }
   ],
   "source": [
    "len(addr)"
   ]
  },
  {
   "cell_type": "code",
   "execution_count": 11,
   "id": "f36055c1",
   "metadata": {},
   "outputs": [],
   "source": [
    "locator = Nominatim(user_agent=\"myGeocoder\")\n",
    "latlon = []\n",
    "for i in range(0,812):\n",
    "  location = locator.geocode(addr[i])\n",
    "  latlon.append(location)"
   ]
  },
  {
   "cell_type": "code",
   "execution_count": 12,
   "id": "09c4c8e3",
   "metadata": {},
   "outputs": [
    {
     "name": "stderr",
     "output_type": "stream",
     "text": [
      "<ipython-input-12-d078ccbe895d>:1: VisibleDeprecationWarning: Creating an ndarray from ragged nested sequences (which is a list-or-tuple of lists-or-tuples-or ndarrays with different lengths or shapes) is deprecated. If you meant to do this, you must specify 'dtype=object' when creating the ndarray.\n",
      "  destination = np.array(latlon)\n"
     ]
    }
   ],
   "source": [
    "destination = np.array(latlon)"
   ]
  },
  {
   "cell_type": "code",
   "execution_count": 22,
   "id": "c45ef818",
   "metadata": {},
   "outputs": [],
   "source": [
    "panda_df = pd.DataFrame(data = destination)"
   ]
  },
  {
   "cell_type": "code",
   "execution_count": 23,
   "id": "9011f96d",
   "metadata": {},
   "outputs": [],
   "source": [
    "panda_df.columns = [\"address\",\"location\"]"
   ]
  },
  {
   "cell_type": "code",
   "execution_count": 37,
   "id": "b94f9911",
   "metadata": {},
   "outputs": [],
   "source": [
    "result = pd.concat([matches, panda_df], axis=1, join='inner')"
   ]
  },
  {
   "cell_type": "code",
   "execution_count": 38,
   "id": "a6a729ee",
   "metadata": {},
   "outputs": [
    {
     "data": {
      "text/html": [
       "<div>\n",
       "<style scoped>\n",
       "    .dataframe tbody tr th:only-of-type {\n",
       "        vertical-align: middle;\n",
       "    }\n",
       "\n",
       "    .dataframe tbody tr th {\n",
       "        vertical-align: top;\n",
       "    }\n",
       "\n",
       "    .dataframe thead th {\n",
       "        text-align: right;\n",
       "    }\n",
       "</style>\n",
       "<table border=\"1\" class=\"dataframe\">\n",
       "  <thead>\n",
       "    <tr style=\"text-align: right;\">\n",
       "      <th></th>\n",
       "      <th>city</th>\n",
       "      <th>date</th>\n",
       "      <th>venue</th>\n",
       "      <th>team1</th>\n",
       "      <th>team2</th>\n",
       "      <th>winner</th>\n",
       "      <th>address</th>\n",
       "      <th>location</th>\n",
       "    </tr>\n",
       "  </thead>\n",
       "  <tbody>\n",
       "    <tr>\n",
       "      <th>0</th>\n",
       "      <td>Cuttack</td>\n",
       "      <td>19-03-10</td>\n",
       "      <td>Barabati Stadium</td>\n",
       "      <td>Deccan Chargers</td>\n",
       "      <td>Kings XI Punjab</td>\n",
       "      <td>Deccan Chargers</td>\n",
       "      <td>Barabati Stadium, Ring Road, Barabati Killa, C...</td>\n",
       "      <td>(20.48070435, 85.86852541310051)</td>\n",
       "    </tr>\n",
       "    <tr>\n",
       "      <th>1</th>\n",
       "      <td>Cuttack</td>\n",
       "      <td>21-03-10</td>\n",
       "      <td>Barabati Stadium</td>\n",
       "      <td>Deccan Chargers</td>\n",
       "      <td>Delhi Daredevils</td>\n",
       "      <td>Deccan Chargers</td>\n",
       "      <td>Barabati Stadium, Ring Road, Barabati Killa, C...</td>\n",
       "      <td>(20.48070435, 85.86852541310051)</td>\n",
       "    </tr>\n",
       "  </tbody>\n",
       "</table>\n",
       "</div>"
      ],
      "text/plain": [
       "      city      date             venue            team1             team2  \\\n",
       "0  Cuttack  19-03-10  Barabati Stadium  Deccan Chargers   Kings XI Punjab   \n",
       "1  Cuttack  21-03-10  Barabati Stadium  Deccan Chargers  Delhi Daredevils   \n",
       "\n",
       "            winner                                            address  \\\n",
       "0  Deccan Chargers  Barabati Stadium, Ring Road, Barabati Killa, C...   \n",
       "1  Deccan Chargers  Barabati Stadium, Ring Road, Barabati Killa, C...   \n",
       "\n",
       "                           location  \n",
       "0  (20.48070435, 85.86852541310051)  \n",
       "1  (20.48070435, 85.86852541310051)  "
      ]
     },
     "execution_count": 38,
     "metadata": {},
     "output_type": "execute_result"
    }
   ],
   "source": [
    "result.head(2)"
   ]
  },
  {
   "cell_type": "code",
   "execution_count": 54,
   "id": "97cdf1f0",
   "metadata": {},
   "outputs": [],
   "source": [
    "result.to_csv(r'C:\\Users\\Admin\\Desktop\\Fall21-22\\ipl_locations.csv')"
   ]
  },
  {
   "cell_type": "code",
   "execution_count": 46,
   "id": "95bceee5",
   "metadata": {},
   "outputs": [],
   "source": [
    "df = pd.read_csv(r\"C:\\Users\\Admin\\Desktop\\Fall21-22\\ipl_locations.csv\")"
   ]
  },
  {
   "cell_type": "code",
   "execution_count": 48,
   "id": "a0a361cc",
   "metadata": {},
   "outputs": [
    {
     "name": "stderr",
     "output_type": "stream",
     "text": [
      "<ipython-input-48-ff47725bf5dd>:1: FutureWarning: The default value of regex will change from True to False in a future version. In addition, single character regular expressions will*not* be treated as literal strings when regex=True.\n",
      "  df[\"location\"] = df[\"location\"].str.replace(\"(\", \"\")\n"
     ]
    }
   ],
   "source": [
    "df[\"location\"] = df[\"location\"].str.replace(\"(\", \"\")"
   ]
  },
  {
   "cell_type": "code",
   "execution_count": 49,
   "id": "69a2b789",
   "metadata": {},
   "outputs": [
    {
     "name": "stderr",
     "output_type": "stream",
     "text": [
      "<ipython-input-49-41530fbc46ba>:1: FutureWarning: The default value of regex will change from True to False in a future version. In addition, single character regular expressions will*not* be treated as literal strings when regex=True.\n",
      "  df[\"location\"] = df[\"location\"].str.replace(\")\", \"\")\n"
     ]
    }
   ],
   "source": [
    "df[\"location\"] = df[\"location\"].str.replace(\")\", \"\")"
   ]
  },
  {
   "cell_type": "code",
   "execution_count": 50,
   "id": "eb7c7723",
   "metadata": {},
   "outputs": [],
   "source": [
    "df[['Lat','Lon']] = df.location.str.split(\",\",expand=True)"
   ]
  },
  {
   "cell_type": "code",
   "execution_count": 51,
   "id": "0981ea8e",
   "metadata": {},
   "outputs": [
    {
     "data": {
      "text/html": [
       "<div>\n",
       "<style scoped>\n",
       "    .dataframe tbody tr th:only-of-type {\n",
       "        vertical-align: middle;\n",
       "    }\n",
       "\n",
       "    .dataframe tbody tr th {\n",
       "        vertical-align: top;\n",
       "    }\n",
       "\n",
       "    .dataframe thead th {\n",
       "        text-align: right;\n",
       "    }\n",
       "</style>\n",
       "<table border=\"1\" class=\"dataframe\">\n",
       "  <thead>\n",
       "    <tr style=\"text-align: right;\">\n",
       "      <th></th>\n",
       "      <th>Unnamed: 0</th>\n",
       "      <th>city</th>\n",
       "      <th>date</th>\n",
       "      <th>venue</th>\n",
       "      <th>team1</th>\n",
       "      <th>team2</th>\n",
       "      <th>winner</th>\n",
       "      <th>address</th>\n",
       "      <th>location</th>\n",
       "      <th>Lat</th>\n",
       "      <th>Lon</th>\n",
       "    </tr>\n",
       "  </thead>\n",
       "  <tbody>\n",
       "    <tr>\n",
       "      <th>0</th>\n",
       "      <td>0</td>\n",
       "      <td>Cuttack</td>\n",
       "      <td>19-03-10</td>\n",
       "      <td>Barabati Stadium</td>\n",
       "      <td>Deccan Chargers</td>\n",
       "      <td>Kings XI Punjab</td>\n",
       "      <td>Deccan Chargers</td>\n",
       "      <td>Barabati Stadium, Ring Road, Barabati Killa, C...</td>\n",
       "      <td>20.48070435, 85.86852541310051</td>\n",
       "      <td>20.48070435</td>\n",
       "      <td>85.86852541310051</td>\n",
       "    </tr>\n",
       "    <tr>\n",
       "      <th>1</th>\n",
       "      <td>1</td>\n",
       "      <td>Cuttack</td>\n",
       "      <td>21-03-10</td>\n",
       "      <td>Barabati Stadium</td>\n",
       "      <td>Deccan Chargers</td>\n",
       "      <td>Delhi Daredevils</td>\n",
       "      <td>Deccan Chargers</td>\n",
       "      <td>Barabati Stadium, Ring Road, Barabati Killa, C...</td>\n",
       "      <td>20.48070435, 85.86852541310051</td>\n",
       "      <td>20.48070435</td>\n",
       "      <td>85.86852541310051</td>\n",
       "    </tr>\n",
       "    <tr>\n",
       "      <th>2</th>\n",
       "      <td>2</td>\n",
       "      <td>Cuttack</td>\n",
       "      <td>22-04-12</td>\n",
       "      <td>Barabati Stadium</td>\n",
       "      <td>Deccan Chargers</td>\n",
       "      <td>Kolkata Knight Riders</td>\n",
       "      <td>Kolkata Knight Riders</td>\n",
       "      <td>Barabati Stadium, Ring Road, Barabati Killa, C...</td>\n",
       "      <td>20.48070435, 85.86852541310051</td>\n",
       "      <td>20.48070435</td>\n",
       "      <td>85.86852541310051</td>\n",
       "    </tr>\n",
       "  </tbody>\n",
       "</table>\n",
       "</div>"
      ],
      "text/plain": [
       "   Unnamed: 0     city      date             venue            team1  \\\n",
       "0           0  Cuttack  19-03-10  Barabati Stadium  Deccan Chargers   \n",
       "1           1  Cuttack  21-03-10  Barabati Stadium  Deccan Chargers   \n",
       "2           2  Cuttack  22-04-12  Barabati Stadium  Deccan Chargers   \n",
       "\n",
       "                   team2                 winner  \\\n",
       "0        Kings XI Punjab        Deccan Chargers   \n",
       "1       Delhi Daredevils        Deccan Chargers   \n",
       "2  Kolkata Knight Riders  Kolkata Knight Riders   \n",
       "\n",
       "                                             address  \\\n",
       "0  Barabati Stadium, Ring Road, Barabati Killa, C...   \n",
       "1  Barabati Stadium, Ring Road, Barabati Killa, C...   \n",
       "2  Barabati Stadium, Ring Road, Barabati Killa, C...   \n",
       "\n",
       "                         location          Lat                 Lon  \n",
       "0  20.48070435, 85.86852541310051  20.48070435   85.86852541310051  \n",
       "1  20.48070435, 85.86852541310051  20.48070435   85.86852541310051  \n",
       "2  20.48070435, 85.86852541310051  20.48070435   85.86852541310051  "
      ]
     },
     "execution_count": 51,
     "metadata": {},
     "output_type": "execute_result"
    }
   ],
   "source": [
    "df.head(3)"
   ]
  },
  {
   "cell_type": "code",
   "execution_count": 55,
   "id": "4df909fa",
   "metadata": {},
   "outputs": [],
   "source": [
    "df.to_csv(r'C:\\Users\\Admin\\Desktop\\Fall21-22\\ipl_latlon.csv')"
   ]
  },
  {
   "cell_type": "code",
   "execution_count": null,
   "id": "0a22e7ab",
   "metadata": {},
   "outputs": [],
   "source": []
  }
 ],
 "metadata": {
  "kernelspec": {
   "display_name": "Python 3",
   "language": "python",
   "name": "python3"
  },
  "language_info": {
   "codemirror_mode": {
    "name": "ipython",
    "version": 3
   },
   "file_extension": ".py",
   "mimetype": "text/x-python",
   "name": "python",
   "nbconvert_exporter": "python",
   "pygments_lexer": "ipython3",
   "version": "3.8.8"
  }
 },
 "nbformat": 4,
 "nbformat_minor": 5
}
